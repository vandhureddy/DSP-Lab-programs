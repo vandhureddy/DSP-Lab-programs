{
 "cells": [
  {
   "cell_type": "code",
   "execution_count": 6,
   "metadata": {
    "colab": {},
    "colab_type": "code",
    "id": "ZPCew3lJcx-i",
    "outputId": "abec7632-8d96-4c4d-ede8-b54a0c12317a"
   },
   "outputs": [
    {
     "name": "stdout",
     "output_type": "stream",
     "text": [
      "0\n",
      "1\n",
      "2\n",
      "3\n",
      "4\n",
      "5\n",
      "6\n",
      "7\n"
     ]
    }
   ],
   "source": [
    "for number in range(8):\n",
    "    print(number)"
   ]
  },
  {
   "cell_type": "code",
   "execution_count": 7,
   "metadata": {
    "colab": {},
    "colab_type": "code",
    "id": "rBK12K0Wcx-p",
    "outputId": "e42022dd-f031-45aa-a115-c9b740394c62"
   },
   "outputs": [
    {
     "name": "stdout",
     "output_type": "stream",
     "text": [
      "1\n",
      "2\n",
      "3\n",
      "4\n",
      "5\n",
      "6\n",
      "7\n",
      "8\n"
     ]
    }
   ],
   "source": [
    "for number in range(1, 9):\n",
    "    print(number)"
   ]
  },
  {
   "cell_type": "code",
   "execution_count": 8,
   "metadata": {
    "colab": {},
    "colab_type": "code",
    "id": "mk3V8nAzcx-w",
    "outputId": "c86fd2a9-0f32-4e5e-d6b8-5ba1ba244520"
   },
   "outputs": [
    {
     "name": "stdout",
     "output_type": "stream",
     "text": [
      "1 3 5 7 9 "
     ]
    }
   ],
   "source": [
    "for number in range(1, 10, 2):\n",
    "    print(number, end= ' ')"
   ]
  },
  {
   "cell_type": "code",
   "execution_count": 9,
   "metadata": {
    "colab": {},
    "colab_type": "code",
    "id": "VWiztlvTcx_G",
    "outputId": "559e7332-7f55-419c-f57d-ca1b8ea70ce9"
   },
   "outputs": [
    {
     "name": "stdout",
     "output_type": "stream",
     "text": [
      "1 v\n",
      "1 a\n",
      "1 n\n",
      "1 d\n",
      "1 h\n",
      "1 u\n",
      "2 v\n",
      "2 a\n",
      "2 n\n",
      "2 d\n",
      "2 h\n",
      "2 u\n",
      "3 v\n",
      "3 a\n",
      "3 n\n",
      "3 d\n",
      "3 h\n",
      "3 u\n",
      "4 v\n",
      "4 a\n",
      "4 n\n",
      "4 d\n",
      "4 h\n",
      "4 u\n",
      "5 v\n",
      "5 a\n",
      "5 n\n",
      "5 d\n",
      "5 h\n",
      "5 u\n",
      "6 v\n",
      "6 a\n",
      "6 n\n",
      "6 d\n",
      "6 h\n",
      "6 u\n"
     ]
    }
   ],
   "source": [
    "for outer_loop_number in range(1, 7):\n",
    "    for inner_loop_character in \"vandhu\":\n",
    "        \n",
    "        print(outer_loop_number, inner_loop_character)"
   ]
  },
  {
   "cell_type": "code",
   "execution_count": 10,
   "metadata": {
    "colab": {},
    "colab_type": "code",
    "id": "TvUPcziBcx_O",
    "outputId": "d2ca4b70-1450-40dd-968e-a146b7f09139"
   },
   "outputs": [
    {
     "name": "stdout",
     "output_type": "stream",
     "text": [
      "0\n",
      "1\n",
      "2\n",
      "3\n",
      "4\n",
      "5\n",
      "6\n"
     ]
    }
   ],
   "source": [
    "number = 0\n",
    "\n",
    "while (number < 7):\n",
    "    print(number)\n",
    "    number = number + 1"
   ]
  },
  {
   "cell_type": "code",
   "execution_count": 11,
   "metadata": {
    "colab": {},
    "colab_type": "code",
    "id": "_f5Xj9r8cx_a",
    "outputId": "476522ff-8bd3-488b-f36a-054972c30391"
   },
   "outputs": [
    {
     "name": "stdout",
     "output_type": "stream",
     "text": [
      "0\n",
      "2\n",
      "4\n",
      "6\n"
     ]
    }
   ],
   "source": [
    "number = 0\n",
    "\n",
    "while (number < 7):\n",
    "    print(number)\n",
    "    number = number + 2"
   ]
  },
  {
   "cell_type": "code",
   "execution_count": 12,
   "metadata": {
    "colab": {
     "base_uri": "https://localhost:8080/",
     "height": 121
    },
    "colab_type": "code",
    "id": "buV0FHzXcx_j",
    "outputId": "75079f1f-b1e5-4070-e276-dbb875149563"
   },
   "outputs": [
    {
     "name": "stdout",
     "output_type": "stream",
     "text": [
      "Number is 0\n",
      "Number is 1\n",
      "Number is 2\n",
      "Number is 3\n",
      "Number is 4\n",
      "Out of loop\n"
     ]
    }
   ],
   "source": [
    "number = 0\n",
    "\n",
    "for number in range(10):\n",
    "    if number == 5:\n",
    "        break    # break here\n",
    "\n",
    "    print('Number is ' + str(number))\n",
    "\n",
    "print('Out of loop')"
   ]
  },
  {
   "cell_type": "code",
   "execution_count": 13,
   "metadata": {
    "colab": {},
    "colab_type": "code",
    "id": "RiZ1csWMcyAU",
    "outputId": "a64cb69b-b498-4130-b0cf-d0d79f945402"
   },
   "outputs": [
    {
     "name": "stdout",
     "output_type": "stream",
     "text": [
      "Number is 0\n",
      "Number is 1\n",
      "Number is 2\n",
      "Number is 3\n",
      "Number is 4\n",
      "Number is 5\n",
      "Number is 6\n",
      "Number is 7\n",
      "Number is 8\n",
      "Number is 9\n",
      "Out of loop\n"
     ]
    }
   ],
   "source": [
    "number = 0\n",
    "\n",
    "for number in range(10):\n",
    "    if number == 5:\n",
    "        pass    # pass here\n",
    "\n",
    "    print('Number is ' + str(number))\n",
    "\n",
    "print('Out of loop')\n"
   ]
  },
  {
   "cell_type": "code",
   "execution_count": null,
   "metadata": {},
   "outputs": [],
   "source": []
  },
  {
   "cell_type": "code",
   "execution_count": null,
   "metadata": {},
   "outputs": [],
   "source": []
  }
 ],
 "metadata": {
  "colab": {
   "name": "Looping Constructs_final.ipynb",
   "provenance": []
  },
  "kernelspec": {
   "display_name": "Python 3 (ipykernel)",
   "language": "python",
   "name": "python3"
  },
  "language_info": {
   "codemirror_mode": {
    "name": "ipython",
    "version": 3
   },
   "file_extension": ".py",
   "mimetype": "text/x-python",
   "name": "python",
   "nbconvert_exporter": "python",
   "pygments_lexer": "ipython3",
   "version": "3.9.7"
  }
 },
 "nbformat": 4,
 "nbformat_minor": 1
}
