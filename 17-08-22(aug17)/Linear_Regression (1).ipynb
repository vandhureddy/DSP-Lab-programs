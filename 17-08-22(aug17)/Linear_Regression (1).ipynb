{
 "cells": [
  {
   "cell_type": "code",
   "execution_count": 1,
   "id": "6b1b6e74",
   "metadata": {},
   "outputs": [],
   "source": [
    "\n",
    "import pandas as pd\n",
    "import numpy as np\n",
    "from sklearn.linear_model import LinearRegression"
   ]
  },
  {
   "cell_type": "code",
   "execution_count": 10,
   "id": "cf5855a9",
   "metadata": {},
   "outputs": [],
   "source": [
    "#Taking Data\n",
    "x=np.array([1,23,34,314,14]).reshape(-1,1)\n",
    "y=np.array([1,1,25,9,61])"
   ]
  },
  {
   "cell_type": "code",
   "execution_count": 11,
   "id": "aab8f7c4",
   "metadata": {},
   "outputs": [],
   "source": [
    "#Fitting Model\n",
    "model=LinearRegression().fit(x,y)"
   ]
  },
  {
   "cell_type": "code",
   "execution_count": 12,
   "id": "171e74b8",
   "metadata": {},
   "outputs": [],
   "source": [
    "#Predicitng Y values for Given X values (b0+(b1*x))\n",
    "y_pre=model.predict(x)"
   ]
  },
  {
   "cell_type": "code",
   "execution_count": 13,
   "id": "47239cab",
   "metadata": {},
   "outputs": [
    {
     "name": "stdout",
     "output_type": "stream",
     "text": [
      "Predict Score:  1.0\n",
      "Normal Score :  0.047828461879053985\n"
     ]
    }
   ],
   "source": [
    "print(\"Predict Score: \",model.score(x,y_pre))\n",
    "print(\"Normal Score : \",model.score(x,y))"
   ]
  },
  {
   "cell_type": "code",
   "execution_count": 14,
   "id": "727148a6",
   "metadata": {},
   "outputs": [
    {
     "name": "stdout",
     "output_type": "stream",
     "text": [
      "[22.56362587 21.65024307 21.19355167  9.56867972 22.02389967]\n",
      "[ 1  1 25  9 61]\n"
     ]
    }
   ],
   "source": [
    "#Differnce Between Y predict and Given Y\n",
    "print(y_pre)\n",
    "print(y)"
   ]
  },
  {
   "cell_type": "code",
   "execution_count": 15,
   "id": "bf21df05",
   "metadata": {},
   "outputs": [
    {
     "name": "stdout",
     "output_type": "stream",
     "text": [
      "b0:  22.605143267854007\n",
      "b1:  [-0.0415174]\n",
      "Rechecked Y predict Values :  [22.56362587 21.65024307 21.19355167  9.56867972 22.02389967]\n"
     ]
    }
   ],
   "source": [
    "#Rechecking With Formula (b0+(b1*x))\n",
    "print(\"b0: \",model.intercept_)\n",
    "print(\"b1: \",model.coef_)\n",
    "y_rc=model.intercept_+np.sum(model.coef_*x,axis=1)\n",
    "print(\"Rechecked Y predict Values : \",y_rc)"
   ]
  },
  {
   "cell_type": "code",
   "execution_count": 16,
   "id": "2db9d33a",
   "metadata": {},
   "outputs": [
    {
     "name": "stdout",
     "output_type": "stream",
     "text": [
      "[[12]\n",
      " [13]\n",
      " [14]\n",
      " [15]\n",
      " [16]]\n",
      "[22.10693447 22.06541707 22.02389967 21.98238227 21.94086487]\n"
     ]
    }
   ],
   "source": [
    "#Predicitng Y values for Given X_new values (b0+(b1*x))\n",
    "x_new=np.array([12,13,14,15,16]).reshape(-1,1)\n",
    "y_new=model.predict(x_new)\n",
    "print(x_new)\n",
    "print(y_new)"
   ]
  },
  {
   "cell_type": "code",
   "execution_count": 17,
   "id": "35731162",
   "metadata": {},
   "outputs": [
    {
     "name": "stdout",
     "output_type": "stream",
     "text": [
      "New Predict Score:  1.0\n"
     ]
    }
   ],
   "source": [
    "print(\"New Predict Score: \",model.score(x_new,y_new))"
   ]
  },
  {
   "cell_type": "code",
   "execution_count": null,
   "id": "e468eb7d",
   "metadata": {},
   "outputs": [],
   "source": []
  }
 ],
 "metadata": {
  "kernelspec": {
   "display_name": "Python 3 (ipykernel)",
   "language": "python",
   "name": "python3"
  },
  "language_info": {
   "codemirror_mode": {
    "name": "ipython",
    "version": 3
   },
   "file_extension": ".py",
   "mimetype": "text/x-python",
   "name": "python",
   "nbconvert_exporter": "python",
   "pygments_lexer": "ipython3",
   "version": "3.9.7"
  }
 },
 "nbformat": 4,
 "nbformat_minor": 5
}
