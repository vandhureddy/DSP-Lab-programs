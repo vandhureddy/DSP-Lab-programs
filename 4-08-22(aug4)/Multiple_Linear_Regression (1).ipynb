{
 "cells": [
  {
   "cell_type": "code",
   "execution_count": 16,
   "id": "ea82beec",
   "metadata": {},
   "outputs": [],
   "source": [
    "import pandas as pd\n",
    "import numpy as np\n",
    "from sklearn.linear_model import LinearRegression"
   ]
  },
  {
   "cell_type": "code",
   "execution_count": 17,
   "id": "e3444da2",
   "metadata": {},
   "outputs": [],
   "source": [
    "x=np.array([[51,22],[17,14],[21,19],[15,22],[119,117]])\n",
    "y=np.array([7,3,5,19,6])"
   ]
  },
  {
   "cell_type": "code",
   "execution_count": 18,
   "id": "8c7918c3",
   "metadata": {},
   "outputs": [],
   "source": [
    "model=LinearRegression().fit(x,y)"
   ]
  },
  {
   "cell_type": "code",
   "execution_count": 19,
   "id": "7274d312",
   "metadata": {},
   "outputs": [],
   "source": [
    "y_pre=model.predict(x)"
   ]
  },
  {
   "cell_type": "code",
   "execution_count": 20,
   "id": "458bded8",
   "metadata": {},
   "outputs": [
    {
     "name": "stdout",
     "output_type": "stream",
     "text": [
      "Predict Score:  1.0\n",
      "Normal Score :  0.1779995524007043\n"
     ]
    }
   ],
   "source": [
    "print(\"Predict Score: \",model.score(x,y_pre))\n",
    "print(\"Normal Score : \",model.score(x,y))"
   ]
  },
  {
   "cell_type": "code",
   "execution_count": 21,
   "id": "40f7a71a",
   "metadata": {},
   "outputs": [
    {
     "name": "stdout",
     "output_type": "stream",
     "text": [
      "[ 4.05849014  9.18363273  9.24069284 10.86254071  6.65464358]\n",
      "[ 7  3  5 19  6]\n"
     ]
    }
   ],
   "source": [
    "#Differnce Between Y predict and Given Y\n",
    "print(y_pre)\n",
    "print(y)"
   ]
  },
  {
   "cell_type": "code",
   "execution_count": 22,
   "id": "c8cd45b9",
   "metadata": {},
   "outputs": [
    {
     "name": "stdout",
     "output_type": "stream",
     "text": [
      "b0:  10.120072549133624\n",
      "b1:  [-0.1890014   0.16261315]\n",
      "Rechecked Y predict Values :  [ 4.05849014  9.18363273  9.24069284 10.86254071  6.65464358]\n"
     ]
    }
   ],
   "source": [
    "#Rechecking With Formula (b0+(b1*x))\n",
    "print(\"b0: \",model.intercept_)\n",
    "print(\"b1: \",model.coef_)\n",
    "y_rc=model.intercept_+np.sum(model.coef_*x,axis=1)\n",
    "print(\"Rechecked Y predict Values : \",y_rc)"
   ]
  },
  {
   "cell_type": "code",
   "execution_count": 23,
   "id": "2deb6d52",
   "metadata": {},
   "outputs": [
    {
     "name": "stdout",
     "output_type": "stream",
     "text": [
      "[[12 13]\n",
      " [14 15]\n",
      " [16 18]\n",
      " [19 20]\n",
      " [21 22]]\n",
      "[ 9.9660266   9.91325009 10.02308672  9.7813088   9.72853228]\n"
     ]
    }
   ],
   "source": [
    "#Predicitng Y values for Given X_new values (b0+(b1*x))\n",
    "x_new=np.array([12,13,14,15,16,18,19,20,21,22]).reshape(-1,2)\n",
    "y_new=model.predict(x_new)\n",
    "print(x_new)\n",
    "print(y_new)"
   ]
  },
  {
   "cell_type": "code",
   "execution_count": 24,
   "id": "d6eee997",
   "metadata": {},
   "outputs": [
    {
     "name": "stdout",
     "output_type": "stream",
     "text": [
      "New Predict Score:  1.0\n"
     ]
    }
   ],
   "source": [
    "print(\"New Predict Score: \",model.score(x_new,y_new))"
   ]
  },
  {
   "cell_type": "code",
   "execution_count": null,
   "id": "543ec077",
   "metadata": {},
   "outputs": [],
   "source": []
  }
 ],
 "metadata": {
  "kernelspec": {
   "display_name": "Python 3 (ipykernel)",
   "language": "python",
   "name": "python3"
  },
  "language_info": {
   "codemirror_mode": {
    "name": "ipython",
    "version": 3
   },
   "file_extension": ".py",
   "mimetype": "text/x-python",
   "name": "python",
   "nbconvert_exporter": "python",
   "pygments_lexer": "ipython3",
   "version": "3.9.7"
  }
 },
 "nbformat": 4,
 "nbformat_minor": 5
}
