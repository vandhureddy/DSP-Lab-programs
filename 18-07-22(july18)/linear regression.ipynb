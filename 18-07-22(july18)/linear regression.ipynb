{
 "cells": [
  {
   "cell_type": "code",
   "execution_count": null,
   "metadata": {},
   "outputs": [],
   "source": [
    "import numpy as np\n",
    "from sklearn.linear_model import LinearRegression\n",
    "x=[[0,1],[5,1],[15,2],[25,2],[35,11],[45,15],[55,34],[60,35]]\n",
    "y=[4,5,20,14,32,22,38,43]\n",
    "x,y=np.array(x),np.array(y)"
   ]
  },
  {
   "cell_type": "code",
   "execution_count": 16,
   "metadata": {},
   "outputs": [
    {
     "name": "stdout",
     "output_type": "stream",
     "text": [
      "coefficient of determination:0.8654702388199673\n",
      "intercept:5.777693283576561\n",
      "coefficients:[0.43104037 0.28048283]\n",
      "predicted response:\n",
      "[ 6.05817611  8.21337795 12.80426444 17.11466811 23.94941724 29.38175222\n",
      " 39.02132963 41.4570143 ]\n",
      "predicted response:\n",
      "[ 6.05817611  8.21337795 12.80426444 17.11466811 23.94941724 29.38175222\n",
      " 39.02132963 41.4570143 ]\n"
     ]
    }
   ],
   "source": [
    "model=LinearRegression().fit(x,y)\n",
    "r_sq=model.score(x,y)\n",
    "print(f\"coefficient of determination:{r_sq}\")\n",
    "print(f\"intercept:{model.intercept_}\")\n",
    "print(f\"coefficients:{model.coef_}\")\n",
    "y_pred=model.predict(x)\n",
    "print(f\"predicted response:\\n{y_pred}\")\n",
    "y_pred=model.intercept_ + np.sum(model.coef_ *x,axis =1)\n",
    "print(f\"predicted response:\\n{y_pred}\")\n",
    "y_new=np.arange(10).reshape((-1,2))\n",
    "y_new=model.predict(x)"
   ]
  },
  {
   "cell_type": "code",
   "execution_count": null,
   "metadata": {},
   "outputs": [],
   "source": []
  }
 ],
 "metadata": {
  "kernelspec": {
   "display_name": "Python 3",
   "language": "python",
   "name": "python3"
  },
  "language_info": {
   "codemirror_mode": {
    "name": "ipython",
    "version": 3
   },
   "file_extension": ".py",
   "mimetype": "text/x-python",
   "name": "python",
   "nbconvert_exporter": "python",
   "pygments_lexer": "ipython3",
   "version": "3.7.6"
  }
 },
 "nbformat": 4,
 "nbformat_minor": 4
}
