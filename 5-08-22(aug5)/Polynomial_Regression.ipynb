{
 "cells": [
  {
   "cell_type": "code",
   "execution_count": 1,
   "id": "2f857645",
   "metadata": {},
   "outputs": [],
   "source": [
    "#Packages And Librarys\n",
    "import pandas as pd\n",
    "import numpy as np\n",
    "from sklearn.linear_model import LinearRegression\n",
    "from sklearn.preprocessing import PolynomialFeatures"
   ]
  },
  {
   "cell_type": "code",
   "execution_count": 2,
   "id": "beb0b443",
   "metadata": {},
   "outputs": [],
   "source": [
    "#Taking Data\n",
    "x=np.array([1,4,5,14,41]).reshape(-1,1)\n",
    "y=np.array([89,33,3,11,1])"
   ]
  },
  {
   "cell_type": "code",
   "execution_count": 3,
   "id": "33098dd4",
   "metadata": {},
   "outputs": [
    {
     "name": "stdout",
     "output_type": "stream",
     "text": [
      "[[1.000e+00 1.000e+00]\n",
      " [4.000e+00 1.600e+01]\n",
      " [5.000e+00 2.500e+01]\n",
      " [1.400e+01 1.960e+02]\n",
      " [4.100e+01 1.681e+03]]\n"
     ]
    }
   ],
   "source": [
    "T=PolynomialFeatures(degree=2,include_bias=False)\n",
    "T.fit(x)\n",
    "x_=T.transform(x)\n",
    "model=LinearRegression(fit_intercept=False).fit(x_,y)\n",
    "print(x_)"
   ]
  },
  {
   "cell_type": "code",
   "execution_count": 4,
   "id": "721c97a2",
   "metadata": {},
   "outputs": [],
   "source": [
    "#Predicitng Y values for Given X values (b0+(b1*x))\n",
    "y_pre=model.predict(x_)"
   ]
  },
  {
   "cell_type": "code",
   "execution_count": 5,
   "id": "612677cc",
   "metadata": {},
   "outputs": [
    {
     "name": "stdout",
     "output_type": "stream",
     "text": [
      "Predict Score:  1.0\n",
      "Normal Score :  -0.5354791654577327\n"
     ]
    }
   ],
   "source": [
    "print(\"Predict Score: \",model.score(x_,y_pre))\n",
    "print(\"Normal Score : \",model.score(x_,y))"
   ]
  },
  {
   "cell_type": "code",
   "execution_count": 6,
   "id": "bf0c5587",
   "metadata": {},
   "outputs": [
    {
     "name": "stdout",
     "output_type": "stream",
     "text": [
      "[ 2.64888539  9.79728985 11.91400743 24.97757765 -0.49010168]\n",
      "[89 33  3 11  1]\n"
     ]
    }
   ],
   "source": [
    "#Differnce Between Y predict and Given Y\n",
    "print(y_pre)\n",
    "print(y)"
   ]
  },
  {
   "cell_type": "code",
   "execution_count": 7,
   "id": "0c2ab5d9",
   "metadata": {},
   "outputs": [
    {
     "name": "stdout",
     "output_type": "stream",
     "text": [
      "b0:  0.0\n",
      "b1:  [ 2.71540637 -0.06652098]\n",
      "Rechecked Y predict Values :  [ 2.64888539  9.79728985 11.91400743 24.97757765 -0.49010168]\n"
     ]
    }
   ],
   "source": [
    "#Rechecking With Formula (b0+(b1*x))\n",
    "print(\"b0: \",model.intercept_)\n",
    "print(\"b1: \",model.coef_)\n",
    "y_rc=model.intercept_+np.sum(model.coef_*x_,axis=1)\n",
    "print(\"Rechecked Y predict Values : \",y_rc)"
   ]
  },
  {
   "cell_type": "code",
   "execution_count": null,
   "id": "3dd85d64",
   "metadata": {},
   "outputs": [],
   "source": []
  }
 ],
 "metadata": {
  "kernelspec": {
   "display_name": "Python 3 (ipykernel)",
   "language": "python",
   "name": "python3"
  },
  "language_info": {
   "codemirror_mode": {
    "name": "ipython",
    "version": 3
   },
   "file_extension": ".py",
   "mimetype": "text/x-python",
   "name": "python",
   "nbconvert_exporter": "python",
   "pygments_lexer": "ipython3",
   "version": "3.9.7"
  }
 },
 "nbformat": 4,
 "nbformat_minor": 5
}
