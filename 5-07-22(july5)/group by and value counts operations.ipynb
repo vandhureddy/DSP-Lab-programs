{
 "cells": [
  {
   "cell_type": "code",
   "execution_count": 1,
   "metadata": {},
   "outputs": [],
   "source": [
    "import pandas as pd\n",
    "a=pd.read_csv(\"sample.csv\")"
   ]
  },
  {
   "cell_type": "code",
   "execution_count": 2,
   "metadata": {},
   "outputs": [
    {
     "data": {
      "text/html": [
       "<div>\n",
       "<style scoped>\n",
       "    .dataframe tbody tr th:only-of-type {\n",
       "        vertical-align: middle;\n",
       "    }\n",
       "\n",
       "    .dataframe tbody tr th {\n",
       "        vertical-align: top;\n",
       "    }\n",
       "\n",
       "    .dataframe thead th {\n",
       "        text-align: right;\n",
       "    }\n",
       "</style>\n",
       "<table border=\"1\" class=\"dataframe\">\n",
       "  <thead>\n",
       "    <tr style=\"text-align: right;\">\n",
       "      <th></th>\n",
       "      <th>Name</th>\n",
       "      <th>Age</th>\n",
       "      <th>Marks</th>\n",
       "    </tr>\n",
       "  </thead>\n",
       "  <tbody>\n",
       "    <tr>\n",
       "      <th>0</th>\n",
       "      <td>V</td>\n",
       "      <td>18</td>\n",
       "      <td>20</td>\n",
       "    </tr>\n",
       "    <tr>\n",
       "      <th>1</th>\n",
       "      <td>JK</td>\n",
       "      <td>19</td>\n",
       "      <td>21</td>\n",
       "    </tr>\n",
       "    <tr>\n",
       "      <th>2</th>\n",
       "      <td>JM</td>\n",
       "      <td>20</td>\n",
       "      <td>22</td>\n",
       "    </tr>\n",
       "    <tr>\n",
       "      <th>3</th>\n",
       "      <td>RM</td>\n",
       "      <td>21</td>\n",
       "      <td>23</td>\n",
       "    </tr>\n",
       "    <tr>\n",
       "      <th>4</th>\n",
       "      <td>SUGA</td>\n",
       "      <td>22</td>\n",
       "      <td>24</td>\n",
       "    </tr>\n",
       "    <tr>\n",
       "      <th>5</th>\n",
       "      <td>JIN</td>\n",
       "      <td>23</td>\n",
       "      <td>25</td>\n",
       "    </tr>\n",
       "    <tr>\n",
       "      <th>6</th>\n",
       "      <td>JHOPE</td>\n",
       "      <td>24</td>\n",
       "      <td>26</td>\n",
       "    </tr>\n",
       "  </tbody>\n",
       "</table>\n",
       "</div>"
      ],
      "text/plain": [
       "    Name  Age  Marks\n",
       "0      V   18     20\n",
       "1     JK   19     21\n",
       "2     JM   20     22\n",
       "3     RM   21     23\n",
       "4   SUGA   22     24\n",
       "5    JIN   23     25\n",
       "6  JHOPE   24     26"
      ]
     },
     "execution_count": 2,
     "metadata": {},
     "output_type": "execute_result"
    }
   ],
   "source": [
    "a"
   ]
  },
  {
   "cell_type": "code",
   "execution_count": 3,
   "metadata": {},
   "outputs": [
    {
     "data": {
      "text/plain": [
       "<pandas.core.groupby.generic.DataFrameGroupBy object at 0x00000203B07B0F08>"
      ]
     },
     "execution_count": 3,
     "metadata": {},
     "output_type": "execute_result"
    }
   ],
   "source": [
    "a.groupby(['Age'])"
   ]
  },
  {
   "cell_type": "code",
   "execution_count": 10,
   "metadata": {},
   "outputs": [
    {
     "name": "stdout",
     "output_type": "stream",
     "text": [
      "     Marks\n",
      "Age       \n",
      "18      20\n",
      "19      21\n",
      "20      22\n",
      "21      23\n",
      "22      24\n",
      "23      25\n",
      "24      26\n"
     ]
    }
   ],
   "source": [
    "print(a.groupby([\"Age\"]).mean())"
   ]
  },
  {
   "cell_type": "code",
   "execution_count": 7,
   "metadata": {},
   "outputs": [
    {
     "name": "stdout",
     "output_type": "stream",
     "text": [
      "      Name  Marks\n",
      "Age              \n",
      "18       V     20\n",
      "19      JK     21\n",
      "20      JM     22\n",
      "21      RM     23\n",
      "22    SUGA     24\n",
      "23     JIN     25\n",
      "24   JHOPE     26\n"
     ]
    }
   ],
   "source": [
    "print(a.groupby([\"Age\"]).max())"
   ]
  },
  {
   "cell_type": "code",
   "execution_count": 8,
   "metadata": {},
   "outputs": [
    {
     "name": "stdout",
     "output_type": "stream",
     "text": [
      "        Name  Age\n",
      "Marks            \n",
      "20         V   18\n",
      "21        JK   19\n",
      "22        JM   20\n",
      "23        RM   21\n",
      "24      SUGA   22\n",
      "25       JIN   23\n",
      "26     JHOPE   24\n"
     ]
    }
   ],
   "source": [
    "print(a.groupby([\"Marks\"]).max())"
   ]
  },
  {
   "cell_type": "code",
   "execution_count": 11,
   "metadata": {},
   "outputs": [
    {
     "name": "stdout",
     "output_type": "stream",
     "text": [
      "{18: Int64Index([0], dtype='int64'), 19: Int64Index([1], dtype='int64'), 20: Int64Index([2], dtype='int64'), 21: Int64Index([3], dtype='int64'), 22: Int64Index([4], dtype='int64'), 23: Int64Index([5], dtype='int64'), 24: Int64Index([6], dtype='int64')}\n"
     ]
    }
   ],
   "source": [
    "print(a.groupby([\"Age\"]).groups)"
   ]
  },
  {
   "cell_type": "code",
   "execution_count": 12,
   "metadata": {},
   "outputs": [
    {
     "name": "stdout",
     "output_type": "stream",
     "text": [
      "{'JHOPE': Int64Index([6], dtype='int64'), 'JIN': Int64Index([5], dtype='int64'), 'JK': Int64Index([1], dtype='int64'), 'JM': Int64Index([2], dtype='int64'), 'RM': Int64Index([3], dtype='int64'), 'SUGA': Int64Index([4], dtype='int64'), 'V': Int64Index([0], dtype='int64')}\n"
     ]
    }
   ],
   "source": [
    "print(a.groupby([\"Name\"]).groups)"
   ]
  },
  {
   "cell_type": "code",
   "execution_count": 13,
   "metadata": {},
   "outputs": [],
   "source": [
    "b=a.groupby([\"Name\",\"Age\"])"
   ]
  },
  {
   "cell_type": "code",
   "execution_count": 16,
   "metadata": {},
   "outputs": [
    {
     "name": "stdout",
     "output_type": "stream",
     "text": [
      "{('JHOPE', 24): Int64Index([6], dtype='int64'), ('JIN', 23): Int64Index([5], dtype='int64'), ('JK', 19): Int64Index([1], dtype='int64'), ('JM', 20): Int64Index([2], dtype='int64'), ('RM', 21): Int64Index([3], dtype='int64'), ('SUGA', 22): Int64Index([4], dtype='int64'), ('V', 18): Int64Index([0], dtype='int64')}\n"
     ]
    }
   ],
   "source": [
    "print(b.groups)"
   ]
  },
  {
   "cell_type": "code",
   "execution_count": 18,
   "metadata": {},
   "outputs": [],
   "source": [
    "g=a.groupby([\"Name\"])"
   ]
  },
  {
   "cell_type": "code",
   "execution_count": 19,
   "metadata": {},
   "outputs": [
    {
     "name": "stdout",
     "output_type": "stream",
     "text": [
      "  Name  Age  Marks\n",
      "0    V   18     20\n"
     ]
    }
   ],
   "source": [
    "print(g.get_group(\"V\"))"
   ]
  },
  {
   "cell_type": "code",
   "execution_count": 20,
   "metadata": {},
   "outputs": [
    {
     "data": {
      "text/plain": [
       "24    1\n",
       "23    1\n",
       "22    1\n",
       "21    1\n",
       "20    1\n",
       "19    1\n",
       "18    1\n",
       "Name: Age, dtype: int64"
      ]
     },
     "execution_count": 20,
     "metadata": {},
     "output_type": "execute_result"
    }
   ],
   "source": [
    "a[\"Age\"].value_counts()"
   ]
  },
  {
   "cell_type": "code",
   "execution_count": null,
   "metadata": {},
   "outputs": [],
   "source": []
  }
 ],
 "metadata": {
  "kernelspec": {
   "display_name": "Python 3",
   "language": "python",
   "name": "python3"
  },
  "language_info": {
   "codemirror_mode": {
    "name": "ipython",
    "version": 3
   },
   "file_extension": ".py",
   "mimetype": "text/x-python",
   "name": "python",
   "nbconvert_exporter": "python",
   "pygments_lexer": "ipython3",
   "version": "3.7.6"
  }
 },
 "nbformat": 4,
 "nbformat_minor": 4
}
