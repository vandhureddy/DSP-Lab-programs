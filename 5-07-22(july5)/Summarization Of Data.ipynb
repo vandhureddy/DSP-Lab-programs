{
 "cells": [
  {
   "cell_type": "code",
   "execution_count": 4,
   "id": "f6b2fcaf",
   "metadata": {},
   "outputs": [
    {
     "name": "stdout",
     "output_type": "stream",
     "text": [
      "    SI.NO       NAME BRANCH  AGE  SALARY GENDER\n",
      "0       1  Satya Sri    CSE   20   50000      F\n",
      "1       2      PRIYA    CSE   19   30000      F\n",
      "2       3    HEMANTH    ECE   24   60000      M\n",
      "3       4       SIRI    ECE   22   45000      F\n",
      "4       5     MURALI   MECH   23   35000      M\n",
      "5       6     MANASA    CSE   19   15000      F\n",
      "6       7       RAMU   MECH   19   25000      F\n",
      "7       8       RAJI    ECE   20   60000      F\n",
      "8       9        SAI    CSE   23   70000      M\n",
      "9      10        RAJ    CSE   24   35000      M\n",
      "10     11       SIVA    ECE   23   40000      M\n"
     ]
    }
   ],
   "source": [
    "import numpy as np\n",
    "import pandas as pd\n",
    "import matplotlib.pyplot as plt\n",
    "df=pd.read_csv(\"student.csv\")\n",
    "print(df)"
   ]
  },
  {
   "cell_type": "code",
   "execution_count": 8,
   "id": "d4d9d1fe",
   "metadata": {},
   "outputs": [
    {
     "name": "stdout",
     "output_type": "stream",
     "text": [
      "           SI.NO        AGE   SALARY\n",
      "GENDER                              \n",
      "F       4.666667  19.833333  37500.0\n",
      "M       7.600000  23.400000  48000.0\n"
     ]
    }
   ],
   "source": [
    "print(df.groupby([\"GENDER\"]).mean())"
   ]
  },
  {
   "cell_type": "code",
   "execution_count": 12,
   "id": "90fbc8a8",
   "metadata": {},
   "outputs": [
    {
     "name": "stdout",
     "output_type": "stream",
     "text": [
      "        SI.NO       NAME BRANCH  AGE  SALARY\n",
      "GENDER                                      \n",
      "F           8  Satya Sri   MECH   22   60000\n",
      "M          11       SIVA   MECH   24   70000\n"
     ]
    }
   ],
   "source": [
    "print(df.groupby([\"GENDER\"]).max())"
   ]
  },
  {
   "cell_type": "code",
   "execution_count": 13,
   "id": "99bfc559",
   "metadata": {},
   "outputs": [
    {
     "name": "stdout",
     "output_type": "stream",
     "text": [
      "        SI.NO    AGE   SALARY\n",
      "BRANCH                       \n",
      "CSE       5.6  21.00  40000.0\n",
      "ECE       6.5  22.25  51250.0\n",
      "MECH      6.0  21.00  30000.0\n"
     ]
    }
   ],
   "source": [
    "print(df.groupby([\"BRANCH\"]).mean())"
   ]
  },
  {
   "cell_type": "code",
   "execution_count": 14,
   "id": "5ead2e53",
   "metadata": {},
   "outputs": [
    {
     "name": "stdout",
     "output_type": "stream",
     "text": [
      "        SI.NO       NAME  AGE  SALARY GENDER\n",
      "BRANCH                                      \n",
      "CSE        10  Satya Sri   24   70000      M\n",
      "ECE        11       SIVA   24   60000      M\n",
      "MECH        7       RAMU   23   35000      M\n"
     ]
    }
   ],
   "source": [
    "print(df.groupby([\"BRANCH\"]).max())"
   ]
  },
  {
   "cell_type": "code",
   "execution_count": 26,
   "id": "1faf2ee1",
   "metadata": {},
   "outputs": [
    {
     "name": "stdout",
     "output_type": "stream",
     "text": [
      "{('F', 'CSE'): [0, 1, 5], ('F', 'ECE'): [3, 7], ('F', 'MECH'): [6], ('M', 'CSE'): [8, 9], ('M', 'ECE'): [2, 10], ('M', 'MECH'): [4]}\n"
     ]
    }
   ],
   "source": [
    "a=df.groupby([\"GENDER\",\"BRANCH\"])\n",
    "print(a.groups)"
   ]
  },
  {
   "cell_type": "code",
   "execution_count": 3,
   "id": "e3c7bff3",
   "metadata": {},
   "outputs": [
    {
     "name": "stdout",
     "output_type": "stream",
     "text": [
      "    SI.NO       NAME BRANCH  AGE  SALARY GENDER\n",
      "0       1  Satya Sri    CSE   20   50000      F\n",
      "1       2      PRIYA    CSE   19   30000      F\n",
      "2       3    HEMANTH    ECE   24   60000      M\n",
      "3       4       SIRI    ECE   22   45000      F\n",
      "4       5     MURALI   MECH   23   35000      M\n",
      "5       6     MANASA    CSE   19   15000      F\n",
      "6       7       RAMU   MECH   19   25000      F\n",
      "7       8       RAJI    ECE   20   60000      F\n",
      "8       9        SAI    CSE   23   70000      M\n",
      "9      10        RAJ    CSE   24   35000      M\n",
      "10     11       SIVA    ECE   23   40000      M\n"
     ]
    }
   ],
   "source": [
    "import numpy as np\n",
    "import pandas as pd\n",
    "import matplotlib.pyplot as plt\n",
    "df=pd.read_csv(\"student.csv\")\n",
    "print(df)"
   ]
  },
  {
   "cell_type": "code",
   "execution_count": 32,
   "id": "4e23cae5",
   "metadata": {},
   "outputs": [
    {
     "name": "stdout",
     "output_type": "stream",
     "text": [
      "{'CSE': [0, 1, 5, 8, 9], 'ECE': [2, 3, 7, 10], 'MECH': [4, 6]}\n"
     ]
    }
   ],
   "source": [
    "print(df.groupby([\"BRANCH\"]).groups)"
   ]
  },
  {
   "cell_type": "code",
   "execution_count": 6,
   "id": "5deded38",
   "metadata": {},
   "outputs": [
    {
     "name": "stdout",
     "output_type": "stream",
     "text": [
      "<pandas.core.groupby.generic.DataFrameGroupBy object at 0x000001B3C11B3EB0>\n"
     ]
    }
   ],
   "source": [
    "a=df.groupby([\"GENDER\",\"BRANCH\"])\n",
    "print(a)"
   ]
  },
  {
   "cell_type": "code",
   "execution_count": 7,
   "id": "bbed3ee2",
   "metadata": {},
   "outputs": [
    {
     "name": "stdout",
     "output_type": "stream",
     "text": [
      "{('F', 'CSE'): [0, 1, 5], ('F', 'ECE'): [3, 7], ('F', 'MECH'): [6], ('M', 'CSE'): [8, 9], ('M', 'ECE'): [2, 10], ('M', 'MECH'): [4]}\n"
     ]
    }
   ],
   "source": [
    "print(a.groups)"
   ]
  },
  {
   "cell_type": "code",
   "execution_count": 8,
   "id": "a44f2041",
   "metadata": {},
   "outputs": [
    {
     "name": "stdout",
     "output_type": "stream",
     "text": [
      "{'F': [0, 1, 3, 5, 6, 7], 'M': [2, 4, 8, 9, 10]}\n"
     ]
    }
   ],
   "source": [
    "print(df.groupby([\"GENDER\"]).groups)"
   ]
  },
  {
   "cell_type": "code",
   "execution_count": 13,
   "id": "ce375c6d",
   "metadata": {},
   "outputs": [
    {
     "name": "stdout",
     "output_type": "stream",
     "text": [
      "    SI.NO     NAME BRANCH  AGE  SALARY GENDER\n",
      "2       3  HEMANTH    ECE   24   60000      M\n",
      "4       5   MURALI   MECH   23   35000      M\n",
      "8       9      SAI    CSE   23   70000      M\n",
      "9      10      RAJ    CSE   24   35000      M\n",
      "10     11     SIVA    ECE   23   40000      M\n"
     ]
    }
   ],
   "source": [
    "g=df.groupby([\"GENDER\"])\n",
    "print(g.get_group(\"M\"))"
   ]
  },
  {
   "cell_type": "code",
   "execution_count": 14,
   "id": "c091215c",
   "metadata": {},
   "outputs": [
    {
     "name": "stdout",
     "output_type": "stream",
     "text": [
      "   SI.NO       NAME BRANCH  AGE  SALARY GENDER\n",
      "0      1  Satya Sri    CSE   20   50000      F\n",
      "1      2      PRIYA    CSE   19   30000      F\n",
      "3      4       SIRI    ECE   22   45000      F\n",
      "5      6     MANASA    CSE   19   15000      F\n",
      "6      7       RAMU   MECH   19   25000      F\n",
      "7      8       RAJI    ECE   20   60000      F\n"
     ]
    }
   ],
   "source": [
    "g=df.groupby([\"GENDER\"])\n",
    "print(g.get_group(\"F\"))"
   ]
  },
  {
   "cell_type": "code",
   "execution_count": 1,
   "id": "5e74da78",
   "metadata": {},
   "outputs": [
    {
     "name": "stdout",
     "output_type": "stream",
     "text": [
      "    SI.NO       NAME BRANCH  AGE  SALARY GENDER\n",
      "0       1  Satya Sri    CSE   20   50000      F\n",
      "1       2      PRIYA    CSE   19   30000      F\n",
      "2       3    HEMANTH    ECE   24   60000      M\n",
      "3       4       SIRI    ECE   22   45000      F\n",
      "4       5     MURALI   MECH   23   35000      M\n",
      "5       6     MANASA    CSE   19   15000      F\n",
      "6       7       RAMU   MECH   19   25000      F\n",
      "7       8       RAJI    ECE   20   60000      F\n",
      "8       9        SAI    CSE   23   70000      M\n",
      "9      10        RAJ    CSE   24   35000      M\n",
      "10     11       SIVA    ECE   23   40000      M\n"
     ]
    }
   ],
   "source": [
    "import numpy as np\n",
    "import pandas as pd\n",
    "import matplotlib.pyplot as plt\n",
    "df=pd.read_csv(\"student.csv\")\n",
    "print(df)"
   ]
  },
  {
   "cell_type": "code",
   "execution_count": 4,
   "id": "7b28c4c8",
   "metadata": {},
   "outputs": [
    {
     "data": {
      "text/plain": [
       "F    6\n",
       "M    5\n",
       "Name: GENDER, dtype: int64"
      ]
     },
     "execution_count": 4,
     "metadata": {},
     "output_type": "execute_result"
    }
   ],
   "source": [
    "df[\"GENDER\"].value_counts()"
   ]
  },
  {
   "cell_type": "code",
   "execution_count": 6,
   "id": "caa4a857",
   "metadata": {},
   "outputs": [
    {
     "name": "stdout",
     "output_type": "stream",
     "text": [
      "[1 3 6]\n"
     ]
    }
   ],
   "source": [
    "arr = np.array([1,2,3])\n",
    "print(np.cumsum(arr))"
   ]
  },
  {
   "cell_type": "code",
   "execution_count": 7,
   "id": "9c2b50b1",
   "metadata": {},
   "outputs": [
    {
     "name": "stdout",
     "output_type": "stream",
     "text": [
      "{'F': [0, 1, 3, 5, 6, 7], 'M': [2, 4, 8, 9, 10]}\n"
     ]
    }
   ],
   "source": [
    "a=df.groupby([\"GENDER\"]).groups\n",
    "print(a)"
   ]
  },
  {
   "cell_type": "code",
   "execution_count": 8,
   "id": "45466847",
   "metadata": {},
   "outputs": [
    {
     "data": {
      "text/plain": [
       "{'CSE': [0, 1, 5, 8, 9], 'ECE': [2, 3, 7, 10], 'MECH': [4, 6]}"
      ]
     },
     "execution_count": 8,
     "metadata": {},
     "output_type": "execute_result"
    }
   ],
   "source": [
    "df.groupby([\"BRANCH\"]).groups"
   ]
  },
  {
   "cell_type": "code",
   "execution_count": 9,
   "id": "93d7067b",
   "metadata": {},
   "outputs": [
    {
     "data": {
      "text/plain": [
       "{19: [1, 5, 6], 20: [0, 7], 22: [3], 23: [4, 8, 10], 24: [2, 9]}"
      ]
     },
     "execution_count": 9,
     "metadata": {},
     "output_type": "execute_result"
    }
   ],
   "source": [
    "df.groupby([\"AGE\"]).groups"
   ]
  },
  {
   "cell_type": "code",
   "execution_count": 10,
   "id": "39922624",
   "metadata": {},
   "outputs": [
    {
     "data": {
      "text/plain": [
       "{15000: [5], 25000: [6], 30000: [1], 35000: [4, 9], 40000: [10], 45000: [3], 50000: [0], 60000: [2, 7], 70000: [8]}"
      ]
     },
     "execution_count": 10,
     "metadata": {},
     "output_type": "execute_result"
    }
   ],
   "source": [
    "df.groupby([\"SALARY\"]).groups"
   ]
  },
  {
   "cell_type": "code",
   "execution_count": 11,
   "id": "62a3cc28",
   "metadata": {},
   "outputs": [
    {
     "data": {
      "text/plain": [
       "{'HEMANTH': [2], 'MANASA': [5], 'MURALI': [4], 'PRIYA': [1], 'RAJ': [9], 'RAJI': [7], 'RAMU': [6], 'SAI': [8], 'SIRI': [3], 'SIVA': [10], 'Satya Sri': [0]}"
      ]
     },
     "execution_count": 11,
     "metadata": {},
     "output_type": "execute_result"
    }
   ],
   "source": [
    "df.groupby([\"NAME\"]).groups"
   ]
  },
  {
   "cell_type": "code",
   "execution_count": 14,
   "id": "a4fc8af5",
   "metadata": {},
   "outputs": [
    {
     "name": "stdout",
     "output_type": "stream",
     "text": [
      "<pandas.core.groupby.generic.DataFrameGroupBy object at 0x0000016D9C7D64F0>\n"
     ]
    }
   ],
   "source": [
    "a=df.groupby([\"GENDER\"])\n",
    "print(a)"
   ]
  },
  {
   "cell_type": "code",
   "execution_count": 16,
   "id": "98233265",
   "metadata": {},
   "outputs": [
    {
     "name": "stdout",
     "output_type": "stream",
     "text": [
      "<pandas.core.groupby.generic.DataFrameGroupBy object at 0x0000016D9C7D1310>\n"
     ]
    }
   ],
   "source": [
    "a=df.groupby([\"BRANCH\"])\n",
    "print(a)"
   ]
  },
  {
   "cell_type": "code",
   "execution_count": 17,
   "id": "f113d916",
   "metadata": {},
   "outputs": [
    {
     "name": "stdout",
     "output_type": "stream",
     "text": [
      "<pandas.core.groupby.generic.DataFrameGroupBy object at 0x0000016D9C7CC2E0>\n"
     ]
    }
   ],
   "source": [
    "a=df.groupby([\"SALARY\"])\n",
    "print(a)"
   ]
  },
  {
   "cell_type": "code",
   "execution_count": 18,
   "id": "4be7a3ed",
   "metadata": {},
   "outputs": [
    {
     "data": {
      "text/plain": [
       "CSE     5\n",
       "ECE     4\n",
       "MECH    2\n",
       "Name: BRANCH, dtype: int64"
      ]
     },
     "execution_count": 18,
     "metadata": {},
     "output_type": "execute_result"
    }
   ],
   "source": [
    "df[\"BRANCH\"].value_counts()"
   ]
  },
  {
   "cell_type": "code",
   "execution_count": 19,
   "id": "4313cf2d",
   "metadata": {},
   "outputs": [
    {
     "data": {
      "text/plain": [
       "19    3\n",
       "23    3\n",
       "20    2\n",
       "24    2\n",
       "22    1\n",
       "Name: AGE, dtype: int64"
      ]
     },
     "execution_count": 19,
     "metadata": {},
     "output_type": "execute_result"
    }
   ],
   "source": [
    "df[\"AGE\"].value_counts()"
   ]
  },
  {
   "cell_type": "code",
   "execution_count": 20,
   "id": "380652f5",
   "metadata": {},
   "outputs": [
    {
     "data": {
      "text/plain": [
       "60000    2\n",
       "35000    2\n",
       "50000    1\n",
       "30000    1\n",
       "45000    1\n",
       "15000    1\n",
       "25000    1\n",
       "70000    1\n",
       "40000    1\n",
       "Name: SALARY, dtype: int64"
      ]
     },
     "execution_count": 20,
     "metadata": {},
     "output_type": "execute_result"
    }
   ],
   "source": [
    "df[\"SALARY\"].value_counts()"
   ]
  },
  {
   "cell_type": "code",
   "execution_count": 6,
   "id": "5f113ab2",
   "metadata": {},
   "outputs": [
    {
     "name": "stdout",
     "output_type": "stream",
     "text": [
      "(1, 3, 2, 4, 6)\n"
     ]
    }
   ],
   "source": [
    "import numpy as np\n",
    "import pandas as pd\n",
    "p1=1,3,2,4,6\n",
    "p2=1,3,20,4,6\n",
    "p3=1,3,2,4,60\n",
    "print(a)\n"
   ]
  },
  {
   "cell_type": "code",
   "execution_count": null,
   "id": "ffaa9c8f",
   "metadata": {},
   "outputs": [],
   "source": []
  },
  {
   "cell_type": "code",
   "execution_count": 75,
   "id": "f75aeaf1",
   "metadata": {},
   "outputs": [
    {
     "data": {
      "text/plain": [
       "count    6.000000\n",
       "mean     3.000000\n",
       "std      1.414214\n",
       "min      1.000000\n",
       "25%      2.250000\n",
       "50%      3.000000\n",
       "75%      3.750000\n",
       "max      5.000000\n",
       "dtype: float64"
      ]
     },
     "execution_count": 75,
     "metadata": {},
     "output_type": "execute_result"
    }
   ],
   "source": [
    "import pandas as pd\n",
    "import numpy as np\n",
    "p1=pd.Series([1,2,3,3,4,5])\n",
    "p2=pd.Series([7,8,9,8,3,1])\n",
    "p3=pd.Series([5,6,7,6,8,9])\n",
    "p4=pd.Series([1,2,3,5,7,7])\n",
    "p5=pd.Series([1,1,2,3,9,5])\n",
    "p6=pd.Series([9,5,7,4,4,2])\n",
    "p7=pd.Series([8,1,2,3,4,8])\n",
    "p8=pd.Series([1,2,3,4,5,2])\n",
    "p9=pd.Series([9,4,3,2,6,9])\n",
    "p10=pd.Series([9,1,2,8,4,7])\n",
    "p1.describe()"
   ]
  },
  {
   "cell_type": "code",
   "execution_count": 77,
   "id": "02ecc91e",
   "metadata": {},
   "outputs": [
    {
     "data": {
      "text/plain": [
       "count    6.000000\n",
       "mean     6.000000\n",
       "std      3.224903\n",
       "min      1.000000\n",
       "25%      4.000000\n",
       "50%      7.500000\n",
       "75%      8.000000\n",
       "max      9.000000\n",
       "dtype: float64"
      ]
     },
     "execution_count": 77,
     "metadata": {},
     "output_type": "execute_result"
    }
   ],
   "source": [
    "p2.describe()"
   ]
  },
  {
   "cell_type": "code",
   "execution_count": 24,
   "id": "73144e77",
   "metadata": {},
   "outputs": [
    {
     "data": {
      "text/plain": [
       "count     5.000000\n",
       "mean     14.000000\n",
       "std      25.739075\n",
       "min       1.000000\n",
       "25%       2.000000\n",
       "50%       3.000000\n",
       "75%       4.000000\n",
       "max      60.000000\n",
       "dtype: float64"
      ]
     },
     "execution_count": 24,
     "metadata": {},
     "output_type": "execute_result"
    }
   ],
   "source": [
    "p3.describe()"
   ]
  },
  {
   "cell_type": "code",
   "execution_count": 78,
   "id": "cdc2215f",
   "metadata": {},
   "outputs": [
    {
     "data": {
      "text/plain": [
       "count    6.000000\n",
       "mean     4.166667\n",
       "std      2.562551\n",
       "min      1.000000\n",
       "25%      2.250000\n",
       "50%      4.000000\n",
       "75%      6.500000\n",
       "max      7.000000\n",
       "dtype: float64"
      ]
     },
     "execution_count": 78,
     "metadata": {},
     "output_type": "execute_result"
    }
   ],
   "source": [
    "p4.describe()"
   ]
  },
  {
   "cell_type": "code",
   "execution_count": 79,
   "id": "dc03718d",
   "metadata": {},
   "outputs": [
    {
     "data": {
      "text/plain": [
       "count    6.000000\n",
       "mean     3.500000\n",
       "std      3.082207\n",
       "min      1.000000\n",
       "25%      1.250000\n",
       "50%      2.500000\n",
       "75%      4.500000\n",
       "max      9.000000\n",
       "dtype: float64"
      ]
     },
     "execution_count": 79,
     "metadata": {},
     "output_type": "execute_result"
    }
   ],
   "source": [
    "p5.describe()"
   ]
  },
  {
   "cell_type": "code",
   "execution_count": 80,
   "id": "fc8749b0",
   "metadata": {},
   "outputs": [
    {
     "data": {
      "text/plain": [
       "count    6.000000\n",
       "mean     5.166667\n",
       "std      2.483277\n",
       "min      2.000000\n",
       "25%      4.000000\n",
       "50%      4.500000\n",
       "75%      6.500000\n",
       "max      9.000000\n",
       "dtype: float64"
      ]
     },
     "execution_count": 80,
     "metadata": {},
     "output_type": "execute_result"
    }
   ],
   "source": [
    "p6.describe()"
   ]
  },
  {
   "cell_type": "code",
   "execution_count": 81,
   "id": "36fd5eca",
   "metadata": {},
   "outputs": [
    {
     "data": {
      "text/plain": [
       "count    6.000000\n",
       "mean     4.333333\n",
       "std      3.011091\n",
       "min      1.000000\n",
       "25%      2.250000\n",
       "50%      3.500000\n",
       "75%      7.000000\n",
       "max      8.000000\n",
       "dtype: float64"
      ]
     },
     "execution_count": 81,
     "metadata": {},
     "output_type": "execute_result"
    }
   ],
   "source": [
    "p7.describe()"
   ]
  },
  {
   "cell_type": "code",
   "execution_count": 82,
   "id": "8e26ebef",
   "metadata": {},
   "outputs": [
    {
     "data": {
      "text/plain": [
       "count    6.000000\n",
       "mean     2.833333\n",
       "std      1.471960\n",
       "min      1.000000\n",
       "25%      2.000000\n",
       "50%      2.500000\n",
       "75%      3.750000\n",
       "max      5.000000\n",
       "dtype: float64"
      ]
     },
     "execution_count": 82,
     "metadata": {},
     "output_type": "execute_result"
    }
   ],
   "source": [
    "p8.describe()"
   ]
  },
  {
   "cell_type": "code",
   "execution_count": 83,
   "id": "8c71d500",
   "metadata": {},
   "outputs": [
    {
     "data": {
      "text/plain": [
       "count    6.000000\n",
       "mean     5.500000\n",
       "std      3.016621\n",
       "min      2.000000\n",
       "25%      3.250000\n",
       "50%      5.000000\n",
       "75%      8.250000\n",
       "max      9.000000\n",
       "dtype: float64"
      ]
     },
     "execution_count": 83,
     "metadata": {},
     "output_type": "execute_result"
    }
   ],
   "source": [
    "p9.describe()"
   ]
  },
  {
   "cell_type": "code",
   "execution_count": 84,
   "id": "75f8a37a",
   "metadata": {},
   "outputs": [
    {
     "data": {
      "text/plain": [
       "count    6.000000\n",
       "mean     5.166667\n",
       "std      3.311596\n",
       "min      1.000000\n",
       "25%      2.500000\n",
       "50%      5.500000\n",
       "75%      7.750000\n",
       "max      9.000000\n",
       "dtype: float64"
      ]
     },
     "execution_count": 84,
     "metadata": {},
     "output_type": "execute_result"
    }
   ],
   "source": [
    "p10.describe()"
   ]
  },
  {
   "cell_type": "code",
   "execution_count": 85,
   "id": "a822b662",
   "metadata": {},
   "outputs": [],
   "source": [
    "import pandas as pd\n",
    "import numpy as np\n",
    "p1=pd.Series([1,2,3,3,4,5])\n",
    "p2=pd.Series([7,8,9,8,3,1])\n",
    "p3=pd.Series([5,6,7,6,8,9])\n",
    "p4=pd.Series([1,2,3,5,7,7])\n",
    "p5=pd.Series([1,1,2,3,9,5])\n",
    "p6=pd.Series([9,5,7,4,4,2])\n",
    "p7=pd.Series([8,1,2,3,4,8])\n",
    "p8=pd.Series([1,2,3,4,5,2])\n",
    "p9=pd.Series([9,4,3,2,6,9])\n",
    "p10=pd.Series([9,1,2,8,4,7])"
   ]
  },
  {
   "cell_type": "code",
   "execution_count": 86,
   "id": "201aac50",
   "metadata": {},
   "outputs": [
    {
     "data": {
      "text/plain": [
       "(3.0,\n",
       " 6.0,\n",
       " 6.833333333333333,\n",
       " 4.166666666666667,\n",
       " 3.5,\n",
       " 5.166666666666667,\n",
       " 4.333333333333333,\n",
       " 2.8333333333333335,\n",
       " 5.5,\n",
       " 5.166666666666667)"
      ]
     },
     "execution_count": 86,
     "metadata": {},
     "output_type": "execute_result"
    }
   ],
   "source": [
    "p1.mean(),p2.mean(),p3.mean(),p4.mean(),p5.mean(),p6.mean(),p7.mean(),p8.mean(),p9.mean(),p10.mean()"
   ]
  },
  {
   "cell_type": "code",
   "execution_count": 87,
   "id": "f5273e98",
   "metadata": {},
   "outputs": [
    {
     "data": {
      "text/plain": [
       "(3.0, 7.5, 6.5, 4.0, 2.5, 4.5, 3.5, 2.5, 5.0, 5.5)"
      ]
     },
     "execution_count": 87,
     "metadata": {},
     "output_type": "execute_result"
    }
   ],
   "source": [
    "p1.median(),p2.median(),p3.median(),p4.median(),p5.median(),p6.median(),p7.median(),p8.median(),p9.median(),p10.median()"
   ]
  },
  {
   "cell_type": "code",
   "execution_count": 90,
   "id": "f7b9c0e3",
   "metadata": {},
   "outputs": [
    {
     "data": {
      "text/plain": [
       "(1.4142135623730951,\n",
       " 3.22490309931942,\n",
       " 1.4719601443879744,\n",
       " 2.562550812504343,\n",
       " 3.082207001484488,\n",
       " 2.48327740429189,\n",
       " 2.48327740429189,\n",
       " 3.011090610836324,\n",
       " 1.4719601443879746,\n",
       " 3.0166206257996713,\n",
       " 3.3115957885386114)"
      ]
     },
     "execution_count": 90,
     "metadata": {},
     "output_type": "execute_result"
    }
   ],
   "source": [
    "p1.std(),p2.std(),p3.std(),p4.std(),p5.std(),p6.std(),p6.std(),p7.std(),p8.std(),p9.std(),p10.std()"
   ]
  },
  {
   "cell_type": "code",
   "execution_count": 20,
   "id": "04dabfef",
   "metadata": {},
   "outputs": [
    {
     "data": {
      "text/plain": [
       "(0    6\n",
       " dtype: int64,\n",
       " 0    3\n",
       " dtype: int64,\n",
       " 0    2\n",
       " dtype: int64,\n",
       " 0    1\n",
       " dtype: int64,\n",
       " 0    90\n",
       " dtype: int64,\n",
       " 0    4\n",
       " dtype: int64,\n",
       " 0    5\n",
       " dtype: int64,\n",
       " 0    25\n",
       " dtype: int64,\n",
       " 0     4\n",
       " 1     6\n",
       " 2     9\n",
       " 3    25\n",
       " 4    45\n",
       " 5    80\n",
       " dtype: int64,\n",
       " 0     1\n",
       " 1     5\n",
       " 2     6\n",
       " 3    25\n",
       " 4    34\n",
       " 5    90\n",
       " dtype: int64)"
      ]
     },
     "execution_count": 20,
     "metadata": {},
     "output_type": "execute_result"
    }
   ],
   "source": [
    "p1.mode(),p2.mode(),p3.mode(),p4.mode(),p5.mode(),p6.mode(),p7.mode(),p8.mode(),p9.mode(),p10.mode()"
   ]
  },
  {
   "cell_type": "code",
   "execution_count": 89,
   "id": "a7f31166",
   "metadata": {},
   "outputs": [
    {
     "data": {
      "text/plain": [
       "(2.0,\n",
       " 10.4,\n",
       " 2.1666666666666665,\n",
       " 6.566666666666667,\n",
       " 9.5,\n",
       " 6.166666666666667,\n",
       " 9.066666666666666,\n",
       " 2.166666666666667,\n",
       " 9.1,\n",
       " 10.966666666666667)"
      ]
     },
     "execution_count": 89,
     "metadata": {},
     "output_type": "execute_result"
    }
   ],
   "source": [
    "p1.var(),p2.var(),p3.var(),p4.var(),p5.var(),p6.var(),p7.var(),p8.var(),p9.var(),p10.var()"
   ]
  },
  {
   "cell_type": "code",
   "execution_count": 93,
   "id": "393a3553",
   "metadata": {},
   "outputs": [
    {
     "data": {
      "text/html": [
       "<div>\n",
       "<style scoped>\n",
       "    .dataframe tbody tr th:only-of-type {\n",
       "        vertical-align: middle;\n",
       "    }\n",
       "\n",
       "    .dataframe tbody tr th {\n",
       "        vertical-align: top;\n",
       "    }\n",
       "\n",
       "    .dataframe thead th {\n",
       "        text-align: right;\n",
       "    }\n",
       "</style>\n",
       "<table border=\"1\" class=\"dataframe\">\n",
       "  <thead>\n",
       "    <tr style=\"text-align: right;\">\n",
       "      <th></th>\n",
       "      <th>Mean</th>\n",
       "      <th>Median</th>\n",
       "      <th>Mode</th>\n",
       "      <th>std</th>\n",
       "      <th>var</th>\n",
       "    </tr>\n",
       "  </thead>\n",
       "  <tbody>\n",
       "    <tr>\n",
       "      <th>p1</th>\n",
       "      <td>3.000000</td>\n",
       "      <td>3.0</td>\n",
       "      <td>0    3\n",
       "dtype: int64</td>\n",
       "      <td>1.414214</td>\n",
       "      <td>2.000000</td>\n",
       "    </tr>\n",
       "    <tr>\n",
       "      <th>p2</th>\n",
       "      <td>6.000000</td>\n",
       "      <td>7.5</td>\n",
       "      <td>0    8\n",
       "dtype: int64</td>\n",
       "      <td>3.224903</td>\n",
       "      <td>10.400000</td>\n",
       "    </tr>\n",
       "    <tr>\n",
       "      <th>p3</th>\n",
       "      <td>6.833333</td>\n",
       "      <td>6.5</td>\n",
       "      <td>0    6\n",
       "dtype: int64</td>\n",
       "      <td>1.471960</td>\n",
       "      <td>2.166667</td>\n",
       "    </tr>\n",
       "    <tr>\n",
       "      <th>p4</th>\n",
       "      <td>4.166667</td>\n",
       "      <td>4.0</td>\n",
       "      <td>0    7\n",
       "dtype: int64</td>\n",
       "      <td>2.562551</td>\n",
       "      <td>6.566667</td>\n",
       "    </tr>\n",
       "    <tr>\n",
       "      <th>p5</th>\n",
       "      <td>3.500000</td>\n",
       "      <td>2.5</td>\n",
       "      <td>0    1\n",
       "dtype: int64</td>\n",
       "      <td>3.082207</td>\n",
       "      <td>9.500000</td>\n",
       "    </tr>\n",
       "    <tr>\n",
       "      <th>p6</th>\n",
       "      <td>5.166667</td>\n",
       "      <td>4.5</td>\n",
       "      <td>0    4\n",
       "dtype: int64</td>\n",
       "      <td>2.483277</td>\n",
       "      <td>6.166667</td>\n",
       "    </tr>\n",
       "    <tr>\n",
       "      <th>p7</th>\n",
       "      <td>4.333333</td>\n",
       "      <td>3.5</td>\n",
       "      <td>0    8\n",
       "dtype: int64</td>\n",
       "      <td>3.011091</td>\n",
       "      <td>9.066667</td>\n",
       "    </tr>\n",
       "    <tr>\n",
       "      <th>p8</th>\n",
       "      <td>2.833333</td>\n",
       "      <td>2.5</td>\n",
       "      <td>0    2\n",
       "dtype: int64</td>\n",
       "      <td>1.471960</td>\n",
       "      <td>2.166667</td>\n",
       "    </tr>\n",
       "    <tr>\n",
       "      <th>p9</th>\n",
       "      <td>5.500000</td>\n",
       "      <td>5.0</td>\n",
       "      <td>0    9\n",
       "dtype: int64</td>\n",
       "      <td>3.016621</td>\n",
       "      <td>9.100000</td>\n",
       "    </tr>\n",
       "    <tr>\n",
       "      <th>p10</th>\n",
       "      <td>5.166667</td>\n",
       "      <td>5.5</td>\n",
       "      <td>0    1\n",
       "1    2\n",
       "2    4\n",
       "3    7\n",
       "4    8\n",
       "5    9\n",
       "dtyp...</td>\n",
       "      <td>3.311596</td>\n",
       "      <td>10.966667</td>\n",
       "    </tr>\n",
       "  </tbody>\n",
       "</table>\n",
       "</div>"
      ],
      "text/plain": [
       "         Mean  Median                                               Mode  \\\n",
       "p1   3.000000     3.0                                0    3\n",
       "dtype: int64   \n",
       "p2   6.000000     7.5                                0    8\n",
       "dtype: int64   \n",
       "p3   6.833333     6.5                                0    6\n",
       "dtype: int64   \n",
       "p4   4.166667     4.0                                0    7\n",
       "dtype: int64   \n",
       "p5   3.500000     2.5                                0    1\n",
       "dtype: int64   \n",
       "p6   5.166667     4.5                                0    4\n",
       "dtype: int64   \n",
       "p7   4.333333     3.5                                0    8\n",
       "dtype: int64   \n",
       "p8   2.833333     2.5                                0    2\n",
       "dtype: int64   \n",
       "p9   5.500000     5.0                                0    9\n",
       "dtype: int64   \n",
       "p10  5.166667     5.5  0    1\n",
       "1    2\n",
       "2    4\n",
       "3    7\n",
       "4    8\n",
       "5    9\n",
       "dtyp...   \n",
       "\n",
       "          std        var  \n",
       "p1   1.414214   2.000000  \n",
       "p2   3.224903  10.400000  \n",
       "p3   1.471960   2.166667  \n",
       "p4   2.562551   6.566667  \n",
       "p5   3.082207   9.500000  \n",
       "p6   2.483277   6.166667  \n",
       "p7   3.011091   9.066667  \n",
       "p8   1.471960   2.166667  \n",
       "p9   3.016621   9.100000  \n",
       "p10  3.311596  10.966667  "
      ]
     },
     "execution_count": 93,
     "metadata": {},
     "output_type": "execute_result"
    }
   ],
   "source": [
    "x=pd.DataFrame({\"Mean\":[p1.mean(),p2.mean(),p3.mean(),p4.mean(),p5.mean(),p6.mean(),p7.mean(),p8.mean(),p9.mean(),p10.mean()],\n",
    "                 \"Median\":[p1.median(),p2.median(),p3.median(),p4.median(),p5.median(),p6.median(),p7.median(),p8.median(),p9.median(),p10.median()],\n",
    "                 \"Mode\":[p1.mode(),p2.mode(),p3.mode(),p4.mode(),p5.mode(),p6.mode(),p7.mode(),p8.mode(),p9.mode(),p10.mode()],\n",
    "                \"std\":[p1.std(),p2.std(),p3.std(),p4.std(),p5.std(),p6.std(),p7.std(),p8.std(),p9.std(),p10.std()],\n",
    "                 \"var\":[p1.var(),p2.var(),p3.var(),p4.var(),p5.var(),p6.var(),p7.var(),p8.var(),p9.var(),p10.var()]},\n",
    "               index=(\"p1\",\"p2\",\"p3\",\"p4\",\"p5\",\"p6\",\"p7\",\"p8\",\"p9\",\"p10\"))\n",
    "x"
   ]
  },
  {
   "cell_type": "code",
   "execution_count": 95,
   "id": "36d925b7",
   "metadata": {},
   "outputs": [
    {
     "data": {
      "text/plain": [
       "(array([1., 0., 1., 0., 0., 1., 0., 1., 0., 1.]),\n",
       " array([0. , 0.4, 0.8, 1.2, 1.6, 2. , 2.4, 2.8, 3.2, 3.6, 4. ]),\n",
       " <BarContainer object of 10 artists>)"
      ]
     },
     "execution_count": 95,
     "metadata": {},
     "output_type": "execute_result"
    },
    {
     "data": {
      "image/png": "[encoded data removed]",
      "text/plain": [
       "<Figure size 432x288 with 1 Axes>"
      ]
     },
     "metadata": {
      "needs_background": "light"
     },
     "output_type": "display_data"
    }
   ],
   "source": [
    "import matplotlib.pyplot as plt\n",
    "plt.hist([\"median\",\"mean\",\"mode\",\"std\",\"var\"])"
   ]
  },
  {
   "cell_type": "code",
   "execution_count": 2,
   "id": "c2dc91d6",
   "metadata": {},
   "outputs": [
    {
     "data": {
      "image/png": "[encoded data removed]",
      "text/plain": [
       "<Figure size 432x288 with 1 Axes>"
      ]
     },
     "metadata": {
      "needs_background": "light"
     },
     "output_type": "display_data"
    }
   ],
   "source": [
    "import matplotlib.pyplot as plt\n",
    "population=['p1','p2','p3','p4','p5','p6','p7','p8','p9','p10']\n",
    "mean=[3.0,6.0,6.833333333333333,4.166666666666667,3.5,5.166666666666667,4.333333333333333,2.8333333333333335,5.5,5.166666666666667]\n",
    "plt.hist(mean,bins=10)\n",
    "plt.title('mean of the population')\n",
    "plt.xlabel('population')\n",
    "plt.ylabel('mean')\n",
    "plt.show()"
   ]
  },
  {
   "cell_type": "code",
   "execution_count": 6,
   "id": "cdeb4f0a",
   "metadata": {},
   "outputs": [
    {
     "data": {
      "image/png": "[encoded data removed]",
      "text/plain": [
       "<Figure size 432x288 with 1 Axes>"
      ]
     },
     "metadata": {
      "needs_background": "light"
     },
     "output_type": "display_data"
    }
   ],
   "source": [
    "import matplotlib.pyplot as plt\n",
    "population=['p1','p2','p3','p4','p5','p6','p7','p8','p9','p10']\n",
    "mean=[3.0,6.0,6.833333333333333,4.166666666666667,3.5,5.166666666666667,4.333333333333333,2.8333333333333335,5.5,5.166666666666667]\n",
    "plt.bar(mean,population)\n",
    "plt.title('mean of the population')\n",
    "plt.xlabel('population')\n",
    "plt.ylabel('mean')\n",
    "plt.show()"
   ]
  },
  {
   "cell_type": "code",
   "execution_count": 11,
   "id": "d074104a",
   "metadata": {},
   "outputs": [
    {
     "data": {
      "image/png": "[encoded data removed]",
      "text/plain": [
       "<Figure size 432x288 with 1 Axes>"
      ]
     },
     "metadata": {
      "needs_background": "light"
     },
     "output_type": "display_data"
    }
   ],
   "source": [
    "import matplotlib.pyplot as plt\n",
    "population=['p1','p2','p3','p4','p5','p6','p7','p8','p9','p10']\n",
    "mean=[3.0,6.0,6.833333333333333,4.166666666666667,3.5,5.166666666666667,4.333333333333333,2.8333333333333335,5.5,5.166666666666667]\n",
    "plt.bar(population,mean)\n",
    "plt.title('mean of the population')\n",
    "plt.xlabel('population')\n",
    "plt.ylabel('mean')\n",
    "plt.show()"
   ]
  },
  {
   "cell_type": "code",
   "execution_count": 54,
   "id": "7a134802",
   "metadata": {},
   "outputs": [
    {
     "data": {
      "image/png": "[encoded data removed]",
      "text/plain": [
       "<Figure size 432x288 with 1 Axes>"
      ]
     },
     "metadata": {
      "needs_background": "light"
     },
     "output_type": "display_data"
    }
   ],
   "source": [
    "import matplotlib.pyplot as plt\n",
    "population=['p1','p2','p3','p4','p5','p6','p7','p8','p9','p10']\n",
    "median=[3.0, 7.5, 6.5, 4.0, 2.5, 4.5, 3.5, 2.5, 5.0, 5.5]\n",
    "plt.hist(median,bins=10)\n",
    "plt.title('median of the population')\n",
    "plt.xlabel('population')\n",
    "plt.ylabel('median')\n",
    "plt.show()"
   ]
  },
  {
   "cell_type": "code",
   "execution_count": 53,
   "id": "7c8ab81c",
   "metadata": {},
   "outputs": [
    {
     "data": {
      "image/png": "[encoded data removed]",
      "text/plain": [
       "<Figure size 432x288 with 1 Axes>"
      ]
     },
     "metadata": {
      "needs_background": "light"
     },
     "output_type": "display_data"
    }
   ],
   "source": [
    "import matplotlib.pyplot as plt\n",
    "population=['p1','p2','p3','p4','p5','p6','p7','p8','p9','p10']\n",
    "median=[3.0, 7.5, 6.5, 4.0, 2.5, 4.5, 3.5, 2.5, 5.0, 5.5]\n",
    "plt.bar(median,population)\n",
    "plt.title('median of the population')\n",
    "plt.xlabel('population')\n",
    "plt.ylabel('median')\n",
    "plt.show()"
   ]
  },
  {
   "cell_type": "code",
   "execution_count": 52,
   "id": "7471fd01",
   "metadata": {},
   "outputs": [
    {
     "data": {
      "image/png": "[encoded data removed]",
      "text/plain": [
       "<Figure size 432x288 with 1 Axes>"
      ]
     },
     "metadata": {
      "needs_background": "light"
     },
     "output_type": "display_data"
    }
   ],
   "source": [
    "import matplotlib.pyplot as plt\n",
    "population=['p1','p2','p3','p4','p5','p6','p7','p8','p9','p10']\n",
    "median=[3.0, 7.5, 6.5, 4.0, 2.5, 4.5, 3.5, 2.5, 5.0, 5.5]\n",
    "plt.bar(population,median)\n",
    "plt.title('median of the population')\n",
    "plt.xlabel('population')\n",
    "plt.ylabel('median')\n",
    "plt.show()"
   ]
  },
  {
   "cell_type": "code",
   "execution_count": 51,
   "id": "cec51472",
   "metadata": {},
   "outputs": [
    {
     "data": {
      "image/png": "[encoded data removed]",
      "text/plain": [
       "<Figure size 432x288 with 1 Axes>"
      ]
     },
     "metadata": {
      "needs_background": "light"
     },
     "output_type": "display_data"
    }
   ],
   "source": [
    "import matplotlib.pyplot as plt\n",
    "population=['p1','p2','p3','p4','p5','p6','p7','p8','p9','p10']\n",
    "median=[3.0, 7.5, 6.5, 4.0, 2.5, 4.5, 3.5, 2.5, 5.0, 5.5]\n",
    "plt.barh(population,median)\n",
    "plt.title('median of the population')\n",
    "plt.xlabel('population')\n",
    "plt.ylabel('median')\n",
    "plt.show()"
   ]
  },
  {
   "cell_type": "code",
   "execution_count": 50,
   "id": "2d9f2b0d",
   "metadata": {},
   "outputs": [
    {
     "data": {
      "image/png": "[encoded data removed]",
      "text/plain": [
       "<Figure size 432x288 with 1 Axes>"
      ]
     },
     "metadata": {
      "needs_background": "light"
     },
     "output_type": "display_data"
    }
   ],
   "source": [
    "import matplotlib.pyplot as plt\n",
    "population=['p1','p2','p3','p4','p5','p6','p7','p8','p9','p10']\n",
    "median=[3.0, 7.5, 6.5, 4.0, 2.5, 4.5, 3.5, 2.5, 5.0, 5.5]\n",
    "plt.barh(median,population)\n",
    "plt.title('median of the population')\n",
    "plt.xlabel('population')\n",
    "plt.ylabel('median')\n",
    "plt.show()"
   ]
  },
  {
   "cell_type": "code",
   "execution_count": 58,
   "id": "d9f5c940",
   "metadata": {},
   "outputs": [
    {
     "data": {
      "image/png": "[encoded data removed]",
      "text/plain": [
       "<Figure size 432x288 with 1 Axes>"
      ]
     },
     "metadata": {
      "needs_background": "light"
     },
     "output_type": "display_data"
    }
   ],
   "source": [
    "import matplotlib.pyplot as plt\n",
    "population=['p1','p2','p3','p4','p5','p6','p7','p8','p9','p10']\n",
    "std=[1.4142135623730951,\n",
    " 3.22490309931942,\n",
    " 1.4719601443879744,\n",
    " 2.562550812504343,\n",
    " 3.082207001484488,\n",
    " 2.48327740429189,\n",
    " 3.011090610836324,\n",
    " 1.4719601443879746,\n",
    " 3.0166206257996713,\n",
    " 3.3115957885386114]\n",
    "plt.bar(std,population)\n",
    "plt.title('std of the population')\n",
    "plt.xlabel('population')\n",
    "plt.ylabel('std')\n",
    "plt.show()"
   ]
  },
  {
   "cell_type": "code",
   "execution_count": 60,
   "id": "46681748",
   "metadata": {},
   "outputs": [
    {
     "data": {
      "image/png": "[encoded data removed]",
      "text/plain": [
       "<Figure size 432x288 with 1 Axes>"
      ]
     },
     "metadata": {
      "needs_background": "light"
     },
     "output_type": "display_data"
    }
   ],
   "source": [
    "import matplotlib.pyplot as plt\n",
    "population=['p1','p2','p3','p4','p5','p6','p7','p8','p9','p10']\n",
    "var=[2.0,\n",
    " 10.4,\n",
    " 2.1666666666666665,\n",
    " 6.566666666666667,\n",
    " 9.5,\n",
    " 6.166666666666667,\n",
    " 9.066666666666666,\n",
    " 2.166666666666667,\n",
    " 9.1,\n",
    " 10.966666666666667]\n",
    "plt.bar(var,population)\n",
    "plt.title('var of the population')\n",
    "plt.xlabel('population')\n",
    "plt.ylabel('var')\n",
    "plt.show()"
   ]
  },
  {
   "cell_type": "code",
   "execution_count": 61,
   "id": "d6218344",
   "metadata": {},
   "outputs": [
    {
     "data": {
      "image/png": "[encoded data removed]",
      "text/plain": [
       "<Figure size 432x288 with 1 Axes>"
      ]
     },
     "metadata": {
      "needs_background": "light"
     },
     "output_type": "display_data"
    }
   ],
   "source": [
    "import matplotlib.pyplot as plt\n",
    "population=['p1','p2','p3','p4','p5','p6','p7','p8','p9','p10']\n",
    "var=[2.0,\n",
    " 10.4,\n",
    " 2.1666666666666665,\n",
    " 6.566666666666667,\n",
    " 9.5,\n",
    " 6.166666666666667,\n",
    " 9.066666666666666,\n",
    " 2.166666666666667,\n",
    " 9.1,\n",
    " 10.966666666666667]\n",
    "plt.hist(var)\n",
    "plt.title('var of the population')\n",
    "plt.xlabel('population')\n",
    "plt.ylabel('var')\n",
    "plt.show()"
   ]
  },
  {
   "cell_type": "code",
   "execution_count": 59,
   "id": "71c71fd1",
   "metadata": {},
   "outputs": [
    {
     "data": {
      "image/png": "[encoded data removed]",
      "text/plain": [
       "<Figure size 432x288 with 1 Axes>"
      ]
     },
     "metadata": {
      "needs_background": "light"
     },
     "output_type": "display_data"
    }
   ],
   "source": [
    "import matplotlib.pyplot as plt\n",
    "population=['p1','p2','p3','p4','p5','p6','p7','p8','p9','p10']\n",
    "std=[1.4142135623730951,\n",
    " 3.22490309931942,\n",
    " 1.4719601443879744,\n",
    " 2.562550812504343,\n",
    " 3.082207001484488,\n",
    " 2.48327740429189,\n",
    " 3.011090610836324,\n",
    " 1.4719601443879746,\n",
    " 3.0166206257996713,\n",
    " 3.3115957885386114]\n",
    "plt.hist(std)\n",
    "plt.title('std of the population')\n",
    "plt.xlabel('population')\n",
    "plt.ylabel('std')\n",
    "plt.show()"
   ]
  },
  {
   "cell_type": "code",
   "execution_count": null,
   "id": "5a11f76c",
   "metadata": {},
   "outputs": [],
   "source": []
  },
  {
   "cell_type": "code",
   "execution_count": 30,
   "id": "ab641156",
   "metadata": {},
   "outputs": [
    {
     "data": {
      "image/png": "[encoded data removed]",
      "text/plain": [
       "<Figure size 432x288 with 1 Axes>"
      ]
     },
     "metadata": {
      "needs_background": "light"
     },
     "output_type": "display_data"
    }
   ],
   "source": [
    "import matplotlib.pyplot as plt\n",
    "population=['p1','p2','p3','p4','p5','p6','p7','p8']\n",
    "mode=[6,3,2,1,90,4,5,25]\n",
    "plt.bar(population,mode)\n",
    "plt.title('mode of the population')\n",
    "plt.xlabel('population')\n",
    "plt.ylabel('mode')\n",
    "plt.show()"
   ]
  },
  {
   "cell_type": "code",
   "execution_count": 32,
   "id": "c5552746",
   "metadata": {},
   "outputs": [
    {
     "data": {
      "image/png": "[encoded data removed]",
      "text/plain": [
       "<Figure size 432x288 with 1 Axes>"
      ]
     },
     "metadata": {
      "needs_background": "light"
     },
     "output_type": "display_data"
    }
   ],
   "source": [
    "import matplotlib.pyplot as plt\n",
    "population=['p1','p2','p3','p4','p5','p6','p7','p8']\n",
    "mode=[6,3,2,1,90,4,5,25]\n",
    "plt.barh(population,mode)\n",
    "plt.title('mode of the population')\n",
    "plt.xlabel('population')\n",
    "plt.ylabel('mode')\n",
    "plt.show()"
   ]
  },
  {
   "cell_type": "code",
   "execution_count": 43,
   "id": "570fec62",
   "metadata": {},
   "outputs": [
    {
     "name": "stderr",
     "output_type": "stream",
     "text": [
      "No artists with labels found to put in legend.  Note that artists whose label start with an underscore are ignored when legend() is called with no argument.\n"
     ]
    },
    {
     "data": {
      "image/png": "[encoded data removed]",
      "text/plain": [
       "<Figure size 432x288 with 1 Axes>"
      ]
     },
     "metadata": {},
     "output_type": "display_data"
    },
    {
     "data": {
      "image/png": "[encoded data removed]",
      "text/plain": [
       "<Figure size 432x288 with 1 Axes>"
      ]
     },
     "metadata": {
      "needs_background": "light"
     },
     "output_type": "display_data"
    }
   ],
   "source": [
    "import numpy as np\n",
    "import pandas as pd\n",
    "import matplotlib.pyplot as plt\n",
    "population=['p1','p2','p3','p4','p5','p6','p7','p8']\n",
    "mode=[6,3,2,1,90,4,5,25]\n",
    "plt.legend(title=\"population mode analysis\")\n",
    "plt.pie(mode,labels=['p1','p2','p3','p4','p5','p6','p7','p8'])\n",
    "plt.show()\n",
    "plt.hist(population,bins=30)\n",
    "plt.show()"
   ]
  },
  {
   "cell_type": "code",
   "execution_count": 44,
   "id": "0b278248",
   "metadata": {},
   "outputs": [
    {
     "name": "stderr",
     "output_type": "stream",
     "text": [
      "No artists with labels found to put in legend.  Note that artists whose label start with an underscore are ignored when legend() is called with no argument.\n"
     ]
    },
    {
     "data": {
      "image/png": "[encoded data removed]",
      "text/plain": [
       "<Figure size 432x288 with 1 Axes>"
      ]
     },
     "metadata": {},
     "output_type": "display_data"
    },
    {
     "data": {
      "image/png": "[encoded data removed]",
      "text/plain": [
       "<Figure size 432x288 with 1 Axes>"
      ]
     },
     "metadata": {
      "needs_background": "light"
     },
     "output_type": "display_data"
    }
   ],
   "source": [
    "population=['p1','p2','p3','p4','p5','p6','p7','p8','p9','p10']\n",
    "median=[3.0, 7.5, 6.5, 4.0, 2.5, 4.5, 3.5, 2.5, 5.0, 5.5]\n",
    "plt.legend(title=\"population median analysis\")\n",
    "plt.pie(median,labels=['p1','p2','p3','p4','p5','p6','p7','p8','p9','p10'])\n",
    "plt.show()\n",
    "plt.hist(population,bins=30)\n",
    "plt.show()"
   ]
  },
  {
   "cell_type": "code",
   "execution_count": 46,
   "id": "3d480bb6",
   "metadata": {},
   "outputs": [
    {
     "name": "stderr",
     "output_type": "stream",
     "text": [
      "No artists with labels found to put in legend.  Note that artists whose label start with an underscore are ignored when legend() is called with no argument.\n"
     ]
    },
    {
     "data": {
      "image/png": "[encoded data removed]",
      "text/plain": [
       "<Figure size 432x288 with 1 Axes>"
      ]
     },
     "metadata": {},
     "output_type": "display_data"
    },
    {
     "data": {
      "image/png": "[encoded data removed]",
      "text/plain": [
       "<Figure size 432x288 with 1 Axes>"
      ]
     },
     "metadata": {
      "needs_background": "light"
     },
     "output_type": "display_data"
    }
   ],
   "source": [
    "population=['p1','p2','p3','p4','p5','p6','p7','p8','p9','p10']\n",
    "mean=[3.0,6.0,6.833333333333333,4.166666666666667,3.5,5.166666666666667,4.333333333333333,2.8333333333333335,5.5,5.166666666666667]\n",
    "plt.legend(title=\"population mean analysis\")\n",
    "plt.pie(mean,labels=['p1','p2','p3','p4','p5','p6','p7','p8','p9','p10'])\n",
    "plt.show()\n",
    "plt.hist(population,bins=30)\n",
    "plt.show()"
   ]
  },
  {
   "cell_type": "code",
   "execution_count": 48,
   "id": "d8b0cdd6",
   "metadata": {},
   "outputs": [
    {
     "name": "stderr",
     "output_type": "stream",
     "text": [
      "No artists with labels found to put in legend.  Note that artists whose label start with an underscore are ignored when legend() is called with no argument.\n"
     ]
    },
    {
     "data": {
      "image/png": "[encoded data removed]",
      "text/plain": [
       "<Figure size 432x288 with 1 Axes>"
      ]
     },
     "metadata": {},
     "output_type": "display_data"
    },
    {
     "data": {
      "image/png": "[encoded data removed]",
      "text/plain": [
       "<Figure size 432x288 with 1 Axes>"
      ]
     },
     "metadata": {
      "needs_background": "light"
     },
     "output_type": "display_data"
    }
   ],
   "source": [
    "population=['p1','p2','p3','p4','p5','p6','p7','p8','p9','p10']\n",
    "std=[1.4142135623730951,\n",
    " 3.22490309931942,\n",
    " 1.4719601443879744,\n",
    " 2.562550812504343,\n",
    " 3.082207001484488,\n",
    " 2.48327740429189,\n",
    " 3.011090610836324,\n",
    " 1.4719601443879746,\n",
    " 3.0166206257996713,\n",
    " 3.3115957885386114]\n",
    "plt.legend(title=\"population std analysis\")\n",
    "plt.pie(std,labels=['p1','p2','p3','p4','p5','p6','p7','p8','p9','p10'])\n",
    "plt.show()\n",
    "plt.hist(population,bins=30)\n",
    "plt.show()"
   ]
  },
  {
   "cell_type": "code",
   "execution_count": 49,
   "id": "ef7e284e",
   "metadata": {},
   "outputs": [
    {
     "name": "stderr",
     "output_type": "stream",
     "text": [
      "No artists with labels found to put in legend.  Note that artists whose label start with an underscore are ignored when legend() is called with no argument.\n"
     ]
    },
    {
     "data": {
      "image/png": "[encoded data removed]",
      "text/plain": [
       "<Figure size 432x288 with 1 Axes>"
      ]
     },
     "metadata": {},
     "output_type": "display_data"
    },
    {
     "data": {
      "image/png": "[encoded data removed]",
      "text/plain": [
       "<Figure size 432x288 with 1 Axes>"
      ]
     },
     "metadata": {
      "needs_background": "light"
     },
     "output_type": "display_data"
    }
   ],
   "source": [
    "population=['p1','p2','p3','p4','p5','p6','p7','p8','p9','p10']\n",
    "var=[2.0,\n",
    " 10.4,\n",
    " 2.1666666666666665,\n",
    " 6.566666666666667,\n",
    " 9.5,\n",
    " 6.166666666666667,\n",
    " 9.066666666666666,\n",
    " 2.166666666666667,\n",
    " 9.1,\n",
    " 10.966666666666667]\n",
    "plt.legend(title=\"population var analysis\")\n",
    "plt.pie(var,labels=['p1','p2','p3','p4','p5','p6','p7','p8','p9','p10'])\n",
    "plt.show()\n",
    "plt.hist(population,bins=30)\n",
    "plt.show()"
   ]
  },
  {
   "cell_type": "code",
   "execution_count": null,
   "id": "7798cf6a",
   "metadata": {},
   "outputs": [],
   "source": []
  }
 ],
 "metadata": {
  "kernelspec": {
   "display_name": "Python 3 (ipykernel)",
   "language": "python",
   "name": "python3"
  },
  "language_info": {
   "codemirror_mode": {
    "name": "ipython",
    "version": 3
   },
   "file_extension": ".py",
   "mimetype": "text/x-python",
   "name": "python",
   "nbconvert_exporter": "python",
   "pygments_lexer": "ipython3",
   "version": "3.9.12"
  }
 },
 "nbformat": 4,
 "nbformat_minor": 5
}
