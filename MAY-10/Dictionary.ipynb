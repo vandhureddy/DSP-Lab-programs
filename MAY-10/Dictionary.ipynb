{
 "cells": [
  {
   "cell_type": "code",
   "execution_count": 1,
   "metadata": {
    "colab": {},
    "colab_type": "code",
    "id": "-RT617E3vArt"
   },
   "outputs": [],
   "source": [
    "\n",
    "d = {\n",
    "    'name'       : 'err',\n",
    "    'age'        :  2122,\n",
    "    'roll_no'    :  123456,\n",
    "    'er' :  95,\n",
    "    '2r' :  74,\n",
    "    'w22'       : 'w',\n",
    "    'country'    : 'india'\n",
    "}"
   ]
  },
  {
   "cell_type": "code",
   "execution_count": 3,
   "metadata": {
    "colab": {},
    "colab_type": "code",
    "id": "zB5mBRj7vAsE",
    "outputId": "6f0d305e-a07f-4864-c1da-15256daec353"
   },
   "outputs": [
    {
     "name": "stdout",
     "output_type": "stream",
     "text": [
      "Name is :  err\n"
     ]
    }
   ],
   "source": [
    "# access key of the dictionary\n",
    "print('Name is : ',d['name'])\n"
   ]
  },
  {
   "cell_type": "code",
   "execution_count": 4,
   "metadata": {
    "colab": {},
    "colab_type": "code",
    "id": "bMIC0cGSvAsW",
    "outputId": "38dfbc38-1b94-44cf-cfc7-bbaa3b05a5ac"
   },
   "outputs": [
    {
     "name": "stdout",
     "output_type": "stream",
     "text": [
      "Age before updation is :  2122\n",
      "Age after updation is :  99\n"
     ]
    }
   ],
   "source": [
    "print('Age before updation is : ',d['age'])\n",
    "\n",
    "d['age'] = 99\n",
    "\n",
    "print('Age after updation is : ',d['age'])"
   ]
  },
  {
   "cell_type": "code",
   "execution_count": 5,
   "metadata": {
    "colab": {},
    "colab_type": "code",
    "id": "l1cT5UFzvAsm",
    "outputId": "b270bbd2-ebef-40d9-b64d-2f0cf31e71f2"
   },
   "outputs": [
    {
     "data": {
      "text/plain": [
       "dict_keys(['name', 'age', 'roll_no', 'er', '2r', 'w22', 'country'])"
      ]
     },
     "execution_count": 5,
     "metadata": {},
     "output_type": "execute_result"
    }
   ],
   "source": [
    "\n",
    "d.keys()"
   ]
  },
  {
   "cell_type": "code",
   "execution_count": 6,
   "metadata": {
    "colab": {},
    "colab_type": "code",
    "id": "ePbHokccvAs2",
    "outputId": "7664cd99-92a7-4d50-cb7e-ebe847b5dc83"
   },
   "outputs": [
    {
     "data": {
      "text/plain": [
       "dict_values(['err', 99, 123456, 95, 74, 'w', 'india'])"
      ]
     },
     "execution_count": 6,
     "metadata": {},
     "output_type": "execute_result"
    }
   ],
   "source": [
    "# get the values of the dictionary\n",
    "\n",
    "d.values()"
   ]
  },
  {
   "cell_type": "code",
   "execution_count": 7,
   "metadata": {
    "colab": {},
    "colab_type": "code",
    "id": "gmDuMaPcvAtE"
   },
   "outputs": [],
   "source": [
    "# update dictionary with a dictionary\n",
    "\n",
    "d.update({ 'pincode' : 122015, 'last_name' : 'xyz'})"
   ]
  },
  {
   "cell_type": "code",
   "execution_count": 8,
   "metadata": {
    "colab": {},
    "colab_type": "code",
    "id": "vgQrYzA6vAtQ",
    "outputId": "d38a150b-2b2c-420a-9502-f407d81ef855"
   },
   "outputs": [
    {
     "data": {
      "text/plain": [
       "{'name': 'err',\n",
       " 'age': 99,\n",
       " 'roll_no': 123456,\n",
       " 'er': 95,\n",
       " '2r': 74,\n",
       " 'w22': 'w',\n",
       " 'country': 'india',\n",
       " 'pincode': 122015,\n",
       " 'last_name': 'xyz'}"
      ]
     },
     "execution_count": 8,
     "metadata": {},
     "output_type": "execute_result"
    }
   ],
   "source": [
    "d"
   ]
  },
  {
   "cell_type": "code",
   "execution_count": 9,
   "metadata": {
    "colab": {},
    "colab_type": "code",
    "id": "cbtTDemmvAt3"
   },
   "outputs": [],
   "source": [
    "sample = {\n",
    "    'string' : 'string',\n",
    "    10       : 'integer',\n",
    "    1.5      : 'float',\n",
    "    False    : 'boolean'\n",
    "}"
   ]
  },
  {
   "cell_type": "code",
   "execution_count": 10,
   "metadata": {
    "colab": {},
    "colab_type": "code",
    "id": "0GpZWEjhvAuH"
   },
   "outputs": [],
   "source": [
    "sample = {\n",
    "    'A' : 1,\n",
    "    'B' : 2,\n",
    "    'C' : 3\n",
    "}"
   ]
  },
  {
   "cell_type": "code",
   "execution_count": 11,
   "metadata": {
    "colab": {},
    "colab_type": "code",
    "id": "9j-AlRwwvAuS",
    "outputId": "93f812b3-5d17-4f3a-c2cf-cfe25f008782"
   },
   "outputs": [
    {
     "data": {
      "text/plain": [
       "1"
      ]
     },
     "execution_count": 11,
     "metadata": {},
     "output_type": "execute_result"
    }
   ],
   "source": [
    "sample['A']"
   ]
  },
  {
   "cell_type": "code",
   "execution_count": 12,
   "metadata": {
    "colab": {},
    "colab_type": "code",
    "id": "diV97Y4IvAud"
   },
   "outputs": [],
   "source": [
    "sample = {\n",
    "    'A' : 1,\n",
    "    'B' : 2,\n",
    "    'C' : 3,\n",
    "    'A' : 100\n",
    "}"
   ]
  },
  {
   "cell_type": "code",
   "execution_count": 13,
   "metadata": {
    "colab": {},
    "colab_type": "code",
    "id": "ZJhdKtYavAun",
    "outputId": "b67e7392-2228-4850-d6e3-251d7eb09079"
   },
   "outputs": [
    {
     "data": {
      "text/plain": [
       "100"
      ]
     },
     "execution_count": 13,
     "metadata": {},
     "output_type": "execute_result"
    }
   ],
   "source": [
    "sample['A']"
   ]
  }
 ],
 "metadata": {
  "colab": {
   "collapsed_sections": [],
   "name": "Data Structure- Dictionary.ipynb",
   "provenance": []
  },
  "kernelspec": {
   "display_name": "Python 3 (ipykernel)",
   "language": "python",
   "name": "python3"
  },
  "language_info": {
   "codemirror_mode": {
    "name": "ipython",
    "version": 3
   },
   "file_extension": ".py",
   "mimetype": "text/x-python",
   "name": "python",
   "nbconvert_exporter": "python",
   "pygments_lexer": "ipython3",
   "version": "3.9.7"
  }
 },
 "nbformat": 4,
 "nbformat_minor": 1
}
