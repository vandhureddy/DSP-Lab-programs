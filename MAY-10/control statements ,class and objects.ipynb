{
 "cells": [
  {
   "cell_type": "markdown",
   "metadata": {},
   "source": [
    "### c)Python Programming Fundamentals: Conditions and Branching Loops, Functions, Objects and Classes\n",
    "#### (i)Conditions and Branching Loops"
   ]
  },
  {
   "cell_type": "code",
   "execution_count": 2,
   "metadata": {},
   "outputs": [
    {
     "name": "stdout",
     "output_type": "stream",
     "text": [
      "Enter the number:4\n",
      "Enter the number:6\n",
      "Enter the number:2\n",
      "b is greatest number\n"
     ]
    }
   ],
   "source": [
    "#program to find greatest number among 3 numbers using if\n",
    "a=int(input(\"Enter the number:\"))\n",
    "b=int(input(\"Enter the number:\"))\n",
    "c=int(input(\"Enter the number:\"))\n",
    "if a>b & a>c:\n",
    "    print(\"a is greatest number\")\n",
    "if b>a & b>c:\n",
    "    print(\"b is greatest number\")\n",
    "if c>a & b>c:\n",
    "    print(\"c is greatest number\")"
   ]
  },
  {
   "cell_type": "code",
   "execution_count": 3,
   "metadata": {},
   "outputs": [
    {
     "name": "stdout",
     "output_type": "stream",
     "text": [
      "Enter the number rather than zero:6\n",
      "given number is positive\n"
     ]
    }
   ],
   "source": [
    "#program to find the given number is +ve/-ve\n",
    "a=int(input(\"Enter the number rather than zero:\"))\n",
    "if a>0:\n",
    "    print(\"given number is positive\")\n",
    "else:\n",
    "    print(\"given number is negative\")"
   ]
  },
  {
   "cell_type": "code",
   "execution_count": 9,
   "metadata": {},
   "outputs": [
    {
     "name": "stdout",
     "output_type": "stream",
     "text": [
      "Enter the number:1\n",
      "1\n",
      "2\n",
      "3\n",
      "4\n",
      "5\n",
      "6\n",
      "7\n",
      "8\n",
      "9\n",
      "10\n"
     ]
    }
   ],
   "source": [
    "#printing 1 to n numbers using for loop\n",
    "n=int(input(\"Enter the number:\"))\n",
    "for i in range(n,11):\n",
    "    print(i)"
   ]
  },
  {
   "cell_type": "code",
   "execution_count": 6,
   "metadata": {},
   "outputs": [
    {
     "name": "stdout",
     "output_type": "stream",
     "text": [
      "Enter the number:8\n",
      "8\n",
      "7\n",
      "6\n",
      "5\n",
      "4\n",
      "3\n",
      "2\n",
      "1\n"
     ]
    }
   ],
   "source": [
    "#reverse the numbers\n",
    "n=int(input(\"Enter the number:\"))\n",
    "for i in range(n,0,-1):\n",
    "    print(i)"
   ]
  },
  {
   "cell_type": "code",
   "execution_count": 11,
   "metadata": {},
   "outputs": [
    {
     "name": "stdout",
     "output_type": "stream",
     "text": [
      "Enter the number:5\n",
      "1\n",
      "2\n",
      "6\n",
      "24\n",
      "120\n"
     ]
    }
   ],
   "source": [
    "#printing factorial of a number\n",
    "n=int(input(\"Enter the number:\"))\n",
    "f=1\n",
    "for i in range(1,n+1):\n",
    "    f=f*i\n",
    "    print(f)"
   ]
  },
  {
   "cell_type": "code",
   "execution_count": 13,
   "metadata": {},
   "outputs": [
    {
     "name": "stdout",
     "output_type": "stream",
     "text": [
      "Enter the number:10\n",
      "0\n",
      "1\n",
      "2\n",
      "3\n",
      "4\n",
      "5\n",
      "6\n",
      "7\n",
      "8\n",
      "9\n",
      "10\n"
     ]
    }
   ],
   "source": [
    "#printing 1 to n numbers using while loop\n",
    "n=int(input(\"Enter the number:\"))\n",
    "i=0\n",
    "while(i<=n):\n",
    "    print(i)\n",
    "    i=i+1"
   ]
  },
  {
   "cell_type": "code",
   "execution_count": 18,
   "metadata": {},
   "outputs": [
    {
     "name": "stdout",
     "output_type": "stream",
     "text": [
      "435456000\n",
      "870912000\n",
      "2612736000\n",
      "10450944000\n",
      "52254720000\n",
      "313528320000\n",
      "Enter the number:5\n"
     ]
    }
   ],
   "source": [
    "#factorial by using functions\n",
    "def fact(n):\n",
    "    f=1\n",
    "for i in range(1,n+1,1):\n",
    "    f=f*i\n",
    "    print(f)\n",
    "n=int(input(\"Enter the number:\"))\n",
    "fact(n)"
   ]
  },
  {
   "cell_type": "code",
   "execution_count": 2,
   "metadata": {},
   "outputs": [
    {
     "name": "stdout",
     "output_type": "stream",
     "text": [
      "Enter the number:3\n",
      "Enter the power number:2\n"
     ]
    }
   ],
   "source": [
    "#power of a number\n",
    "n=int(input(\"Enter the number:\"))\n",
    "x=int(input(\"Enter the power number:\"))\n",
    "def power(x,n):\n",
    "    if n==0:\n",
    "        return 1\n",
    "    else:\n",
    "        return(x*power(x,n-1))\n",
    "    print(power(x,n))"
   ]
  },
  {
   "cell_type": "markdown",
   "metadata": {},
   "source": [
    "#### Classes and Objects"
   ]
  },
  {
   "cell_type": "code",
   "execution_count": 11,
   "metadata": {},
   "outputs": [
    {
     "ename": "SyntaxError",
     "evalue": "invalid syntax (<ipython-input-11-5284390a8835>, line 5)",
     "output_type": "error",
     "traceback": [
      "\u001b[1;36m  File \u001b[1;32m\"<ipython-input-11-5284390a8835>\"\u001b[1;36m, line \u001b[1;32m5\u001b[0m\n\u001b[1;33m    def display(self)\u001b[0m\n\u001b[1;37m                     ^\u001b[0m\n\u001b[1;31mSyntaxError\u001b[0m\u001b[1;31m:\u001b[0m invalid syntax\n"
     ]
    }
   ],
   "source": [
    "class student(object):\n",
    "  def __init__(self,name,rno):\n",
    "    self.name=name\n",
    "    self.rno=rno\n",
    "  def display(self)\n",
    "    print(self.name)\n",
    "    print(self.rno)\n",
    "    s1=student(\"v\",1)\n",
    "    s1.display()\n",
    "    s2=student(\"jk\",2)\n",
    "    s2.display()"
   ]
  },
  {
   "cell_type": "markdown",
   "metadata": {},
   "source": [
    "### d) Working with Data in Python: Reading files with open, Writing files with open, Loading data with Pandas, Working with and Saving data with Pandas "
   ]
  },
  {
   "cell_type": "markdown",
   "metadata": {},
   "source": [
    "#### (i)Reading files with open, Writing files with open"
   ]
  },
  {
   "cell_type": "code",
   "execution_count": 12,
   "metadata": {},
   "outputs": [],
   "source": [
    "f=open(\"f1.txt\",\"w\")\n",
    "f.write(\"Hi\")\n",
    "f=open(\"f1.txt\",\"r\")\n",
    "f.read()\n",
    "f.close()"
   ]
  },
  {
   "cell_type": "code",
   "execution_count": 14,
   "metadata": {},
   "outputs": [],
   "source": [
    "#append\n",
    "f=open(\"f1.txt\",\"w\")\n",
    "f.write(\"Hello\")\n",
    "f=open(\"f1.txt\",\"a\")\n",
    "f.write(\"world\")\n",
    "f=open(\"f1.txt\",\"r\")\n",
    "f.read()\n",
    "f.close()"
   ]
  },
  {
   "cell_type": "code",
   "execution_count": 16,
   "metadata": {},
   "outputs": [],
   "source": [
    "#reading the file\n",
    "f=open(\"f1.txt\",\"w\")\n",
    "f.write(\"Hello world\")\n",
    "f.close()\n",
    "f=open(\"f1.txt\",\"r\")\n",
    "f.readline()\n",
    "f.readlines()\n",
    "f.read(10)\n",
    "f.close()"
   ]
  },
  {
   "cell_type": "code",
   "execution_count": 17,
   "metadata": {},
   "outputs": [],
   "source": [
    "#tell()\n",
    "f=open(\"f1.txt\",\"w\")\n",
    "f.write(\"Hello world\")\n",
    "f=open(\"f1.txt\",\"r\")\n",
    "f.tell()\n",
    "f.close()"
   ]
  },
  {
   "cell_type": "code",
   "execution_count": 22,
   "metadata": {},
   "outputs": [],
   "source": [
    "#seek()\n",
    "f=open(\"f1.txt\",\"w\")\n",
    "f.write(\"Hello world\")\n",
    "f.seek(10,0)\n",
    "f.close()"
   ]
  },
  {
   "cell_type": "markdown",
   "metadata": {},
   "source": [
    "### (ii)Pandas"
   ]
  },
  {
   "cell_type": "code",
   "execution_count": null,
   "metadata": {},
   "outputs": [],
   "source": []
  }
 ],
 "metadata": {
  "kernelspec": {
   "display_name": "Python 3 (ipykernel)",
   "language": "python",
   "name": "python3"
  },
  "language_info": {
   "codemirror_mode": {
    "name": "ipython",
    "version": 3
   },
   "file_extension": ".py",
   "mimetype": "text/x-python",
   "name": "python",
   "nbconvert_exporter": "python",
   "pygments_lexer": "ipython3",
   "version": "3.9.12"
  }
 },
 "nbformat": 4,
 "nbformat_minor": 4
}
