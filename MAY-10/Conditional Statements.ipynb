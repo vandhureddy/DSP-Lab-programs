{
 "cells": [
  {
   "cell_type": "code",
   "execution_count": 3,
   "metadata": {
    "colab": {},
    "colab_type": "code",
    "id": "dm2r9ozf0A8h",
    "outputId": "4d1ab61f-eade-4c3b-e698-51426b508ae5"
   },
   "outputs": [
    {
     "name": "stdout",
     "output_type": "stream",
     "text": [
      "True Statement\n"
     ]
    }
   ],
   "source": [
    "if (\"S\" == \"S\"):\n",
    "    print('True Statement')"
   ]
  },
  {
   "cell_type": "code",
   "execution_count": 4,
   "metadata": {
    "colab": {},
    "colab_type": "code",
    "id": "0Zbslyf20A9K",
    "outputId": "226d99f2-c51c-4bdd-cd36-71a5b17a3272"
   },
   "outputs": [
    {
     "name": "stdout",
     "output_type": "stream",
     "text": [
      "The condition in the if statement is True.\n"
     ]
    }
   ],
   "source": [
    "y = 2\n",
    "if (y == 2):\n",
    "    print('The condition in the if statement is True.')"
   ]
  },
  {
   "cell_type": "code",
   "execution_count": 6,
   "metadata": {
    "colab": {},
    "colab_type": "code",
    "id": "1dP6DdZW0A9i",
    "outputId": "9d6f00b3-360e-42d0-9e8f-61d65cb2bdb4"
   },
   "outputs": [
    {
     "name": "stdout",
     "output_type": "stream",
     "text": [
      "a is smaller than b.\n"
     ]
    }
   ],
   "source": [
    "r = 15\n",
    "c = 101\n",
    "if (r > c):\n",
    "    print('a is greater than b.')\n",
    "else :\n",
    "    print('a is smaller than b.')"
   ]
  },
  {
   "cell_type": "code",
   "execution_count": 7,
   "metadata": {
    "colab": {},
    "colab_type": "code",
    "id": "po4ObPfb0A9y",
    "outputId": "13725a01-6ba8-4c08-c5bb-ede2c25af486"
   },
   "outputs": [
    {
     "name": "stdout",
     "output_type": "stream",
     "text": [
      "Both the numbers are greater than 5\n"
     ]
    }
   ],
   "source": [
    "a = 8\n",
    "b = 10\n",
    "\n",
    "if ( (a > 10) and (b > 10) ):\n",
    "    print('Both the numbers are greater than 10.')\n",
    "    \n",
    "elif ( (a > 5) and (b > 5) ):\n",
    "    print('Both the numbers are greater than 5')\n",
    "    \n",
    "else:\n",
    "    print('Conditions are not Satisfied.')"
   ]
  },
  {
   "cell_type": "code",
   "execution_count": 8,
   "metadata": {
    "colab": {},
    "colab_type": "code",
    "id": "3NrAps7b0A-C",
    "outputId": "851a8a5e-78e2-437a-de95-b3440674fa94"
   },
   "outputs": [
    {
     "name": "stdout",
     "output_type": "stream",
     "text": [
      "5\n",
      "Odd\n"
     ]
    }
   ],
   "source": [
    "x = input()\n",
    "x = int(x)\n",
    "\n",
    "if(x%2 == 0):\n",
    "    print(\"Even\")\n",
    "else:\n",
    "    print(\"Odd\")"
   ]
  },
  {
   "cell_type": "code",
   "execution_count": 9,
   "metadata": {
    "colab": {
     "base_uri": "https://localhost:8080/",
     "height": 52
    },
    "colab_type": "code",
    "executionInfo": {
     "elapsed": 18769,
     "status": "ok",
     "timestamp": 1584361278610,
     "user": {
      "displayName": "Abhiraj Suresh",
      "photoUrl": "",
      "userId": "02561716271917562052"
     },
     "user_tz": -330
    },
    "id": "_5NJRM1Q0A-S",
    "outputId": "b12424d7-69b5-4d57-89e9-8c8cd8bc561a"
   },
   "outputs": [
    {
     "name": "stdout",
     "output_type": "stream",
     "text": [
      "55\n",
      "Grade F\n"
     ]
    }
   ],
   "source": [
    "\n",
    "y = input()\n",
    "y = int(y)\n",
    "\n",
    "if  (y > 90):\n",
    "    print(\"Grade A\")\n",
    "\n",
    "elif(y > 60):\n",
    "    print(\"Grade B\")\n",
    "\n",
    "else:\n",
    "    print(\"Grade F\")"
   ]
  },
  {
   "cell_type": "code",
   "execution_count": 0,
   "metadata": {
    "colab": {},
    "colab_type": "code",
    "id": "lIPUVB_T0A-d"
   },
   "outputs": [],
   "source": []
  }
 ],
 "metadata": {
  "colab": {
   "name": "2. Conditional Statements.ipynb",
   "provenance": []
  },
  "kernelspec": {
   "display_name": "Python 3 (ipykernel)",
   "language": "python",
   "name": "python3"
  },
  "language_info": {
   "codemirror_mode": {
    "name": "ipython",
    "version": 3
   },
   "file_extension": ".py",
   "mimetype": "text/x-python",
   "name": "python",
   "nbconvert_exporter": "python",
   "pygments_lexer": "ipython3",
   "version": "3.9.7"
  }
 },
 "nbformat": 4,
 "nbformat_minor": 1
}
