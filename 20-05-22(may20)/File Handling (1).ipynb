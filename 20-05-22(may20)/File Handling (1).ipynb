{
 "cells": [
  {
   "cell_type": "code",
   "execution_count": 13,
   "metadata": {
    "colab": {},
    "colab_type": "code",
    "id": "v-RDWQLShxxj"
   },
   "outputs": [],
   "source": [
    "\n",
    "f1 = open(\"s.txt\", \"r\")"
   ]
  },
  {
   "cell_type": "code",
   "execution_count": 14,
   "metadata": {
    "colab": {},
    "colab_type": "code",
    "id": "6AGE86_hhxx5",
    "outputId": "deb94501-20c4-4c2f-b46d-7704d27c83e1"
   },
   "outputs": [
    {
     "data": {
      "text/plain": [
       "'jgvSDVhjdfhlfv,hdbkr,hbwegn sFm bdhj,grhj,rGj.bk'"
      ]
     },
     "execution_count": 14,
     "metadata": {},
     "output_type": "execute_result"
    }
   ],
   "source": [
    "\n",
    "f = f1.read()\n",
    "f"
   ]
  },
  {
   "cell_type": "code",
   "execution_count": 15,
   "metadata": {
    "colab": {},
    "colab_type": "code",
    "id": "wbFhUC5yhxyS",
    "outputId": "31a45576-c478-4f52-cb6d-772c94bc96db"
   },
   "outputs": [
    {
     "data": {
      "text/plain": [
       "''"
      ]
     },
     "execution_count": 15,
     "metadata": {},
     "output_type": "execute_result"
    }
   ],
   "source": [
    "\n",
    "f = f1.read()\n",
    "\n",
    "f"
   ]
  },
  {
   "cell_type": "code",
   "execution_count": 16,
   "metadata": {
    "colab": {},
    "colab_type": "code",
    "id": "Ed_NBdXEhxyi"
   },
   "outputs": [],
   "source": [
    "\n",
    "f1.close()"
   ]
  },
  {
   "cell_type": "code",
   "execution_count": 17,
   "metadata": {
    "colab": {},
    "colab_type": "code",
    "id": "5l0294PKhxyw"
   },
   "outputs": [],
   "source": [
    "complete_text = open(\"hdj.txt\", \"r\")"
   ]
  },
  {
   "cell_type": "code",
   "execution_count": 18,
   "metadata": {
    "colab": {},
    "colab_type": "code",
    "id": "OZ_FbxMwhxy8",
    "outputId": "b8984e82-07a1-4dfb-e551-2d4203c6137e"
   },
   "outputs": [
    {
     "data": {
      "text/plain": [
       "\"gdgjddsjhefha  dfshjfesbbhdsfbhesfdhdhnf\\nf\\nf\\nf\\nf\\nf\\nf\\nfbfiqhn efd\\nVsdjsdfsjdmsz\\nsxlbfiauflsdmgs;ndiflaks,'\""
      ]
     },
     "execution_count": 18,
     "metadata": {},
     "output_type": "execute_result"
    }
   ],
   "source": [
    "complete_text.read()"
   ]
  },
  {
   "cell_type": "code",
   "execution_count": 19,
   "metadata": {
    "colab": {},
    "colab_type": "code",
    "id": "gQI7yWSehxzN",
    "outputId": "71bbeeeb-dc03-462f-a8d3-9ec0b4d28a73"
   },
   "outputs": [
    {
     "data": {
      "text/plain": [
       "0"
      ]
     },
     "execution_count": 19,
     "metadata": {},
     "output_type": "execute_result"
    }
   ],
   "source": [
    "complete_text.seek(0)"
   ]
  },
  {
   "cell_type": "code",
   "execution_count": 20,
   "metadata": {
    "colab": {},
    "colab_type": "code",
    "id": "BUMzpDFuhxzc",
    "outputId": "55119180-93a3-43b5-a00c-ba77c027919c"
   },
   "outputs": [
    {
     "data": {
      "text/plain": [
       "\"gdgjddsjhefha  dfshjfesbbhdsfbhesfdhdhnf\\nf\\nf\\nf\\nf\\nf\\nf\\nfbfiqhn efd\\nVsdjsdfsjdmsz\\nsxlbfiauflsdmgs;ndiflaks,'\""
      ]
     },
     "execution_count": 20,
     "metadata": {},
     "output_type": "execute_result"
    }
   ],
   "source": [
    "complete_text.read()"
   ]
  },
  {
   "cell_type": "code",
   "execution_count": 9,
   "metadata": {
    "colab": {},
    "colab_type": "code",
    "id": "UPaghT12hxzr",
    "outputId": "baf9fb05-71c9-4ffd-f789-7755175e4330"
   },
   "outputs": [
    {
     "data": {
      "text/plain": [
       "300"
      ]
     },
     "execution_count": 9,
     "metadata": {},
     "output_type": "execute_result"
    }
   ],
   "source": [
    "# read from 300th character in the file\n",
    "complete_text.seek(300)"
   ]
  }
 ],
 "metadata": {
  "colab": {
   "name": "File Handling in Python.ipynb",
   "provenance": []
  },
  "kernelspec": {
   "display_name": "Python 3 (ipykernel)",
   "language": "python",
   "name": "python3"
  },
  "language_info": {
   "codemirror_mode": {
    "name": "ipython",
    "version": 3
   },
   "file_extension": ".py",
   "mimetype": "text/x-python",
   "name": "python",
   "nbconvert_exporter": "python",
   "pygments_lexer": "ipython3",
   "version": "3.9.7"
  }
 },
 "nbformat": 4,
 "nbformat_minor": 1
}
