{
 "cells": [
  {
   "cell_type": "code",
   "execution_count": 1,
   "metadata": {},
   "outputs": [
    {
     "name": "stdout",
     "output_type": "stream",
     "text": [
      "0     2\n",
      "1     4\n",
      "2     6\n",
      "3     8\n",
      "4    10\n",
      "dtype: int64\n"
     ]
    }
   ],
   "source": [
    "#creating series\n",
    "import pandas as pd\n",
    "a=pd.Series([2,4,6,8,10])\n",
    "print(a)"
   ]
  },
  {
   "cell_type": "code",
   "execution_count": 7,
   "metadata": {},
   "outputs": [
    {
     "name": "stdout",
     "output_type": "stream",
     "text": [
      "Pandas series and its type\n",
      "0     2\n",
      "1     4\n",
      "2     6\n",
      "3     8\n",
      "4    10\n",
      "dtype: int64\n",
      "<class 'pandas.core.series.Series'>\n",
      "converting pandas to list\n",
      "[2, 4, 6, 8, 10]\n",
      "<class 'list'>\n"
     ]
    }
   ],
   "source": [
    "#converting pandas to list\n",
    "import pandas as pd\n",
    "a=pd.Series([2,4,6,8,10])\n",
    "print(\"Pandas series and its type\")\n",
    "print(a)\n",
    "print(type(a))\n",
    "print(\"converting pandas to list\")\n",
    "print(a.tolist())\n",
    "print(type(a.tolist()))"
   ]
  },
  {
   "cell_type": "code",
   "execution_count": 8,
   "metadata": {},
   "outputs": [
    {
     "name": "stdout",
     "output_type": "stream",
     "text": [
      "adding two series:\n",
      "0     3\n",
      "1     7\n",
      "2    11\n",
      "3    15\n",
      "4    19\n",
      "dtype: int64\n",
      "subtracting two series:\n",
      "0    1\n",
      "1    1\n",
      "2    1\n",
      "3    1\n",
      "4    1\n",
      "dtype: int64\n",
      "multiplying two series:\n",
      "0     2\n",
      "1    12\n",
      "2    30\n",
      "3    56\n",
      "4    90\n",
      "dtype: int64\n",
      "dividing two series:\n",
      "0    2.000000\n",
      "1    1.333333\n",
      "2    1.200000\n",
      "3    1.142857\n",
      "4    1.111111\n",
      "dtype: float64\n"
     ]
    }
   ],
   "source": [
    "#add,subtract,multiply and divide two series\n",
    "import pandas as pd\n",
    "a=pd.Series([2,4,6,8,10])\n",
    "b=pd.Series([1,3,5,7,9])\n",
    "c=a+b\n",
    "print(\"adding two series:\")\n",
    "print(c)\n",
    "c=a-b\n",
    "print(\"subtracting two series:\")\n",
    "print(c)\n",
    "c=a*b\n",
    "print(\"multiplying two series:\")\n",
    "print(c)\n",
    "c=a/b\n",
    "print(\"dividing two series:\")\n",
    "print(c)"
   ]
  },
  {
   "cell_type": "code",
   "execution_count": 10,
   "metadata": {},
   "outputs": [
    {
     "name": "stdout",
     "output_type": "stream",
     "text": [
      "Series 1:\n",
      "0     2\n",
      "1     4\n",
      "2     6\n",
      "3     8\n",
      "4    10\n",
      "dtype: int64\n",
      "Series 2:\n",
      "0    1\n",
      "1    3\n",
      "2    5\n",
      "3    7\n",
      "4    9\n",
      "dtype: int64\n",
      "compare the elements in two series:\n",
      "Equals:\n",
      "0    False\n",
      "1    False\n",
      "2    False\n",
      "3    False\n",
      "4    False\n",
      "dtype: bool\n",
      "Greater than:\n",
      "0    True\n",
      "1    True\n",
      "2    True\n",
      "3    True\n",
      "4    True\n",
      "dtype: bool\n",
      "Less than:\n",
      "0    False\n",
      "1    False\n",
      "2    False\n",
      "3    False\n",
      "4    False\n",
      "dtype: bool\n"
     ]
    }
   ],
   "source": [
    "#comparing the elements in two series\n",
    "import pandas as pd\n",
    "a=pd.Series([2,4,6,8,10])\n",
    "b=pd.Series([1,3,5,7,9])\n",
    "print(\"Series 1:\")\n",
    "print(a)\n",
    "print(\"Series 2:\")\n",
    "print(b)\n",
    "print(\"compare the elements in two series:\")\n",
    "print(\"Equals:\")\n",
    "print(a==b)\n",
    "print(\"Greater than:\")\n",
    "print(a>b)\n",
    "print(\"Less than:\")\n",
    "print(a<b)"
   ]
  },
  {
   "cell_type": "code",
   "execution_count": 11,
   "metadata": {},
   "outputs": [
    {
     "name": "stdout",
     "output_type": "stream",
     "text": [
      "original dictionary:\n",
      "{'a': 100, 'b': 200, 'c': 300, 'd': 400, 'e': 500}\n",
      "converted series:\n",
      "a    100\n",
      "b    200\n",
      "c    300\n",
      "d    400\n",
      "e    500\n",
      "dtype: int64\n"
     ]
    }
   ],
   "source": [
    "#converting dictionary to series\n",
    "import pandas as pd\n",
    "a={'a':100,'b':200,'c':300,'d':400,'e':500}\n",
    "print(\"original dictionary:\")\n",
    "print(a)\n",
    "series=pd.Series(a)\n",
    "print(\"converted series:\")\n",
    "print(series)"
   ]
  },
  {
   "cell_type": "code",
   "execution_count": 12,
   "metadata": {},
   "outputs": [
    {
     "name": "stdout",
     "output_type": "stream",
     "text": [
      "numpy array:\n",
      "[10 20 30 40 50]\n",
      "converting numpy array to pandas series:\n",
      "0    10\n",
      "1    20\n",
      "2    30\n",
      "3    40\n",
      "4    50\n",
      "dtype: int32\n"
     ]
    }
   ],
   "source": [
    "#converting numpy array to pandas series\n",
    "import numpy as np\n",
    "import pandas as pd\n",
    "array=np.array([10,20,30,40,50])\n",
    "print(\"numpy array:\")\n",
    "print(array)\n",
    "series=pd.Series(array)\n",
    "print(\"converting numpy array to pandas series:\")\n",
    "print(series)"
   ]
  },
  {
   "cell_type": "code",
   "execution_count": 13,
   "metadata": {},
   "outputs": [
    {
     "name": "stdout",
     "output_type": "stream",
     "text": [
      "original series:\n",
      "0       100\n",
      "1       200\n",
      "2    python\n",
      "3    300.12\n",
      "4       400\n",
      "dtype: object\n",
      "changing the datatype of given series:\n",
      "0    100.00\n",
      "1    200.00\n",
      "2       NaN\n",
      "3    300.12\n",
      "4    400.00\n",
      "dtype: float64\n"
     ]
    }
   ],
   "source": [
    "#changing the datatype of a series\n",
    "import pandas as pd\n",
    "a=pd.Series(['100','200','python','300.12','400'])\n",
    "print(\"original series:\")\n",
    "print(a)\n",
    "print(\"changing the datatype of given series:\")\n",
    "b=pd.to_numeric(a,errors='coerce')\n",
    "print(b)"
   ]
  },
  {
   "cell_type": "code",
   "execution_count": 14,
   "metadata": {},
   "outputs": [
    {
     "name": "stdout",
     "output_type": "stream",
     "text": [
      "original dataframe:\n",
      "   col1  col2  col3\n",
      "0     1     4     7\n",
      "1     2     5     5\n",
      "2     3     6     8\n",
      "3     4     9    12\n",
      "4     7     5     1\n",
      "5    11     0    11\n"
     ]
    },
    {
     "ename": "AttributeError",
     "evalue": "'DataFrame' object has no attribute 'ix'",
     "output_type": "error",
     "traceback": [
      "\u001b[1;31m---------------------------------------------------------------------------\u001b[0m",
      "\u001b[1;31mAttributeError\u001b[0m                            Traceback (most recent call last)",
      "\u001b[1;32m<ipython-input-14-d833156a4601>\u001b[0m in \u001b[0;36m<module>\u001b[1;34m\u001b[0m\n\u001b[0;32m      5\u001b[0m \u001b[0mprint\u001b[0m\u001b[1;33m(\u001b[0m\u001b[1;34m\"original dataframe:\"\u001b[0m\u001b[1;33m)\u001b[0m\u001b[1;33m\u001b[0m\u001b[1;33m\u001b[0m\u001b[0m\n\u001b[0;32m      6\u001b[0m \u001b[0mprint\u001b[0m\u001b[1;33m(\u001b[0m\u001b[0mb\u001b[0m\u001b[1;33m)\u001b[0m\u001b[1;33m\u001b[0m\u001b[1;33m\u001b[0m\u001b[0m\n\u001b[1;32m----> 7\u001b[1;33m \u001b[0mc\u001b[0m\u001b[1;33m=\u001b[0m\u001b[0mb\u001b[0m\u001b[1;33m.\u001b[0m\u001b[0mix\u001b[0m\u001b[1;33m[\u001b[0m\u001b[1;33m:\u001b[0m\u001b[1;33m,\u001b[0m\u001b[1;36m0\u001b[0m\u001b[1;33m]\u001b[0m\u001b[1;33m\u001b[0m\u001b[1;33m\u001b[0m\u001b[0m\n\u001b[0m\u001b[0;32m      8\u001b[0m \u001b[0mprint\u001b[0m\u001b[1;33m(\u001b[0m\u001b[1;34m\"\\n first column of a dataframe as a series:\"\u001b[0m\u001b[1;33m)\u001b[0m\u001b[1;33m\u001b[0m\u001b[1;33m\u001b[0m\u001b[0m\n\u001b[0;32m      9\u001b[0m \u001b[0mprint\u001b[0m\u001b[1;33m(\u001b[0m\u001b[0mc\u001b[0m\u001b[1;33m)\u001b[0m\u001b[1;33m\u001b[0m\u001b[1;33m\u001b[0m\u001b[0m\n",
      "\u001b[1;32m~\\anaconda3\\lib\\site-packages\\pandas\\core\\generic.py\u001b[0m in \u001b[0;36m__getattr__\u001b[1;34m(self, name)\u001b[0m\n\u001b[0;32m   5272\u001b[0m             \u001b[1;32mif\u001b[0m \u001b[0mself\u001b[0m\u001b[1;33m.\u001b[0m\u001b[0m_info_axis\u001b[0m\u001b[1;33m.\u001b[0m\u001b[0m_can_hold_identifiers_and_holds_name\u001b[0m\u001b[1;33m(\u001b[0m\u001b[0mname\u001b[0m\u001b[1;33m)\u001b[0m\u001b[1;33m:\u001b[0m\u001b[1;33m\u001b[0m\u001b[1;33m\u001b[0m\u001b[0m\n\u001b[0;32m   5273\u001b[0m                 \u001b[1;32mreturn\u001b[0m \u001b[0mself\u001b[0m\u001b[1;33m[\u001b[0m\u001b[0mname\u001b[0m\u001b[1;33m]\u001b[0m\u001b[1;33m\u001b[0m\u001b[1;33m\u001b[0m\u001b[0m\n\u001b[1;32m-> 5274\u001b[1;33m             \u001b[1;32mreturn\u001b[0m \u001b[0mobject\u001b[0m\u001b[1;33m.\u001b[0m\u001b[0m__getattribute__\u001b[0m\u001b[1;33m(\u001b[0m\u001b[0mself\u001b[0m\u001b[1;33m,\u001b[0m \u001b[0mname\u001b[0m\u001b[1;33m)\u001b[0m\u001b[1;33m\u001b[0m\u001b[1;33m\u001b[0m\u001b[0m\n\u001b[0m\u001b[0;32m   5275\u001b[0m \u001b[1;33m\u001b[0m\u001b[0m\n\u001b[0;32m   5276\u001b[0m     \u001b[1;32mdef\u001b[0m \u001b[0m__setattr__\u001b[0m\u001b[1;33m(\u001b[0m\u001b[0mself\u001b[0m\u001b[1;33m,\u001b[0m \u001b[0mname\u001b[0m\u001b[1;33m:\u001b[0m \u001b[0mstr\u001b[0m\u001b[1;33m,\u001b[0m \u001b[0mvalue\u001b[0m\u001b[1;33m)\u001b[0m \u001b[1;33m->\u001b[0m \u001b[1;32mNone\u001b[0m\u001b[1;33m:\u001b[0m\u001b[1;33m\u001b[0m\u001b[1;33m\u001b[0m\u001b[0m\n",
      "\u001b[1;31mAttributeError\u001b[0m: 'DataFrame' object has no attribute 'ix'"
     ]
    }
   ],
   "source": [
    "#convert first column of a dataframe as a series\n",
    "import pandas as pd\n",
    "a={'col1':[1,2,3,4,7,11],'col2':[4,5,6,9,5,0],'col3':[7,5,8,12,1,11]}\n",
    "b=pd.DataFrame(data=a)\n",
    "print(\"original dataframe:\")\n",
    "print(b)\n",
    "c=b.ix[:,0]\n",
    "print(\"\\n first column of a dataframe as a series:\")\n",
    "print(c)\n",
    "print(type(c))"
   ]
  },
  {
   "cell_type": "code",
   "execution_count": 15,
   "metadata": {},
   "outputs": [
    {
     "name": "stdout",
     "output_type": "stream",
     "text": [
      "original Data series:\n",
      "0       100\n",
      "1       200\n",
      "2    python\n",
      "3    300.12\n",
      "4       400\n",
      "dtype: object\n",
      "convert series to an array:\n",
      "['100' '200' 'python' '300.12' '400']\n"
     ]
    }
   ],
   "source": [
    "#convert given series to an array\n",
    "import pandas as pd\n",
    "import numpy as np\n",
    "a=pd.Series(['100','200','python','300.12','400'])\n",
    "print(\"original Data series:\")\n",
    "print(a)\n",
    "print(\"convert series to an array:\")\n",
    "b=np.array(a.values.tolist())\n",
    "print(b)"
   ]
  },
  {
   "cell_type": "code",
   "execution_count": 17,
   "metadata": {},
   "outputs": [
    {
     "name": "stdout",
     "output_type": "stream",
     "text": [
      "original series:\n",
      "0    [red, green, white]\n",
      "1           [red, black]\n",
      "2               [yellow]\n",
      "dtype: object\n",
      "one series:\n",
      "0       red\n",
      "1     green\n",
      "2     white\n",
      "3       red\n",
      "4     black\n",
      "5    yellow\n",
      "dtype: object\n"
     ]
    }
   ],
   "source": [
    "#convert series of lists to one series\n",
    "import pandas as pd\n",
    "a=pd.Series([\n",
    "    ['red','green','white'],\n",
    "    ['red','black'],\n",
    "    ['yellow']])\n",
    "print(\"original series:\")\n",
    "print(a)\n",
    "a=a.apply(pd.Series).stack().reset_index(drop=True)\n",
    "print(\"one series:\")\n",
    "print(a)"
   ]
  },
  {
   "cell_type": "code",
   "execution_count": 18,
   "metadata": {},
   "outputs": [
    {
     "name": "stdout",
     "output_type": "stream",
     "text": [
      "original data series:\n",
      "0       100\n",
      "1       200\n",
      "2    python\n",
      "3    300.12\n",
      "4       400\n",
      "dtype: object\n",
      "0       100\n",
      "1       200\n",
      "3    300.12\n",
      "4       400\n",
      "2    python\n",
      "dtype: object\n"
     ]
    }
   ],
   "source": [
    "#sorting a series\n",
    "import pandas as pd\n",
    "a=pd.Series(['100','200','python','300.12','400'])\n",
    "print(\"original data series:\")\n",
    "print(a)\n",
    "b=pd.Series(a).sort_values()\n",
    "print(b)"
   ]
  },
  {
   "cell_type": "code",
   "execution_count": 19,
   "metadata": {},
   "outputs": [
    {
     "name": "stdout",
     "output_type": "stream",
     "text": [
      "original series:\n",
      "0       100\n",
      "1       200\n",
      "2    python\n",
      "3    300.12\n",
      "4       400\n",
      "dtype: object\n",
      "\n",
      " data series after adding some data:\n",
      "0       100\n",
      "1       200\n",
      "2    python\n",
      "3    300.12\n",
      "4       400\n",
      "0       500\n",
      "1       php\n",
      "dtype: object\n"
     ]
    }
   ],
   "source": [
    "#add some data to an existing series\n",
    "import pandas as pd\n",
    "a=pd.Series(['100','200','python','300.12','400'])\n",
    "print(\"original series:\")\n",
    "print(a)\n",
    "print(\"\\n data series after adding some data:\")\n",
    "b=a.append(pd.Series(['500','php']))\n",
    "print(b)"
   ]
  },
  {
   "cell_type": "code",
   "execution_count": 20,
   "metadata": {},
   "outputs": [
    {
     "name": "stdout",
     "output_type": "stream",
     "text": [
      "original series:\n",
      "0      0\n",
      "1      1\n",
      "2      2\n",
      "3      3\n",
      "4      4\n",
      "5      5\n",
      "6      6\n",
      "7      7\n",
      "8      8\n",
      "9      9\n",
      "10    10\n",
      "dtype: int64\n",
      "\n",
      " subset of given series:\n",
      "0    0\n",
      "1    1\n",
      "2    2\n",
      "3    3\n",
      "4    4\n",
      "5    5\n",
      "dtype: int64\n"
     ]
    }
   ],
   "source": [
    "#create a subset of a given series based on value and condition\n",
    "import pandas as pd\n",
    "a=pd.Series([0,1,2,3,4,5,6,7,8,9,10])\n",
    "print(\"original series:\")\n",
    "print(a)\n",
    "print(\"\\n subset of given series:\")\n",
    "n=6\n",
    "b=a[a<n]\n",
    "print(b)"
   ]
  },
  {
   "cell_type": "code",
   "execution_count": 21,
   "metadata": {},
   "outputs": [
    {
     "name": "stdout",
     "output_type": "stream",
     "text": [
      "original array:\n",
      "A    1\n",
      "B    2\n",
      "C    3\n",
      "D    4\n",
      "E    5\n",
      "dtype: int64\n",
      "data series after changing order of index:\n",
      "B    2\n",
      "A    1\n",
      "C    3\n",
      "D    4\n",
      "E    5\n",
      "dtype: int64\n"
     ]
    }
   ],
   "source": [
    "#change order of index\n",
    "import pandas as pd\n",
    "a=pd.Series(data=[1,2,3,4,5],index=['A','B','C','D','E'])\n",
    "print(\"original array:\")\n",
    "print(a)\n",
    "a=a.reindex(index=['B','A','C','D','E'])\n",
    "print(\"data series after changing order of index:\")\n",
    "print(a)"
   ]
  },
  {
   "cell_type": "code",
   "execution_count": 22,
   "metadata": {},
   "outputs": [
    {
     "name": "stdout",
     "output_type": "stream",
     "text": [
      "original series:\n",
      "0     1\n",
      "1     2\n",
      "2     3\n",
      "3     4\n",
      "4     5\n",
      "5     6\n",
      "6     7\n",
      "7     8\n",
      "8     9\n",
      "9     5\n",
      "10    3\n",
      "dtype: int64\n",
      "Mean of the series:\n",
      "4.818181818181818\n",
      "standard deviation of the series:\n",
      "2.522624895547565\n"
     ]
    }
   ],
   "source": [
    "#create mean,standard deviation of the data of a given series\n",
    "import pandas as pd\n",
    "a=pd.Series(data=[1,2,3,4,5,6,7,8,9,5,3])\n",
    "print(\"original series:\")\n",
    "print(a)\n",
    "print(\"Mean of the series:\")\n",
    "print(a.mean())\n",
    "print(\"standard deviation of the series:\")\n",
    "print(a.std())"
   ]
  },
  {
   "cell_type": "code",
   "execution_count": 23,
   "metadata": {},
   "outputs": [
    {
     "name": "stdout",
     "output_type": "stream",
     "text": [
      "original series:\n",
      "series 1:\n",
      "0    1\n",
      "1    2\n",
      "2    3\n",
      "3    4\n",
      "4    5\n",
      "dtype: int64\n",
      "series 2:\n",
      "0     2\n",
      "1     4\n",
      "2     6\n",
      "3     8\n",
      "4    10\n",
      "dtype: int64\n",
      "items of a given series not present in another given series:\n",
      "0    1\n",
      "2    3\n",
      "4    5\n",
      "dtype: int64\n"
     ]
    }
   ],
   "source": [
    "#items of a given series not present in another given series\n",
    "import pandas as pd\n",
    "a=pd.Series([1,2,3,4,5])\n",
    "b=pd.Series([2,4,6,8,10])\n",
    "print(\"original series:\")\n",
    "print(\"series 1:\")\n",
    "print(a)\n",
    "print(\"series 2:\")\n",
    "print(b)\n",
    "print(\"items of a given series not present in another given series:\")\n",
    "result=a[~a.isin(b)]\n",
    "print(result)"
   ]
  },
  {
   "cell_type": "code",
   "execution_count": 25,
   "metadata": {},
   "outputs": [
    {
     "name": "stdout",
     "output_type": "stream",
     "text": [
      "original series:\n",
      "series 1:\n",
      "0    1\n",
      "1    2\n",
      "2    3\n",
      "3    4\n",
      "4    5\n",
      "dtype: int64\n",
      "series 2:\n",
      "0     2\n",
      "1     4\n",
      "2     6\n",
      "3     8\n",
      "4    10\n",
      "dtype: int64\n",
      "items which are not common of two given series:\n",
      "0     1\n",
      "2     3\n",
      "4     5\n",
      "5     6\n",
      "6     8\n",
      "7    10\n",
      "dtype: int64\n"
     ]
    }
   ],
   "source": [
    "#items which are not common of two given series\n",
    "import pandas as pd\n",
    "import numpy as np\n",
    "a=pd.Series([1,2,3,4,5])\n",
    "b=pd.Series([2,4,6,8,10])\n",
    "print(\"original series:\")\n",
    "print(\"series 1:\")\n",
    "print(a)\n",
    "print(\"series 2:\")\n",
    "print(b)\n",
    "print(\"items which are not common of two given series:\")\n",
    "c=pd.Series(np.union1d(a,b))\n",
    "d=pd.Series(np.intersect1d(a,b))\n",
    "result=c[~c.isin(d)]\n",
    "print(result)"
   ]
  },
  {
   "cell_type": "code",
   "execution_count": 26,
   "metadata": {},
   "outputs": [
    {
     "name": "stdout",
     "output_type": "stream",
     "text": [
      "original series:\n",
      "0      3.000938\n",
      "1     11.370722\n",
      "2     14.612143\n",
      "3      8.990256\n",
      "4     13.925283\n",
      "5     12.056875\n",
      "6     10.884719\n",
      "7      5.719827\n",
      "8      9.242017\n",
      "9     11.020006\n",
      "10     8.167892\n",
      "11    11.740654\n",
      "12     7.665620\n",
      "13    13.267388\n",
      "14    12.690883\n",
      "15     9.582355\n",
      "16     7.874878\n",
      "17    14.118931\n",
      "18     8.247458\n",
      "19     5.526727\n",
      "dtype: float64\n",
      "\n",
      " minimum,25percentile,median,75th and maximum of series:\n",
      "[ 3.00093811  8.09463867 10.23353705 12.21537733 14.61214321]\n"
     ]
    }
   ],
   "source": [
    "#program to compute the minimum,25percentile,median,75th and maximum of series\n",
    "import pandas as pd\n",
    "import numpy as np\n",
    "a_state=np.random.RandomState(100)\n",
    "a_series=pd.Series(a_state.normal(10,4,20))\n",
    "print(\"original series:\")\n",
    "print(a_series)\n",
    "result=np.percentile(a_series,q=[0,25,50,75,100])\n",
    "print(\"\\n minimum,25percentile,median,75th and maximum of series:\")\n",
    "print(result)"
   ]
  },
  {
   "cell_type": "code",
   "execution_count": 31,
   "metadata": {},
   "outputs": [
    {
     "name": "stdout",
     "output_type": "stream",
     "text": [
      "original series:\n",
      "0     3\n",
      "1     4\n",
      "2     1\n",
      "3     2\n",
      "4     3\n",
      "5     1\n",
      "6     8\n",
      "7     4\n",
      "8     8\n",
      "9     4\n",
      "10    6\n",
      "11    6\n",
      "12    8\n",
      "13    4\n",
      "14    7\n",
      "15    7\n",
      "16    3\n",
      "17    8\n",
      "18    3\n",
      "19    2\n",
      "20    8\n",
      "21    3\n",
      "22    2\n",
      "23    5\n",
      "24    3\n",
      "25    8\n",
      "26    6\n",
      "27    6\n",
      "28    6\n",
      "29    3\n",
      "30    9\n",
      "31    9\n",
      "32    1\n",
      "33    8\n",
      "34    9\n",
      "35    7\n",
      "36    7\n",
      "37    6\n",
      "38    5\n",
      "39    9\n",
      "dtype: object\n",
      "frequency of each unique value of series\n",
      "3    7\n",
      "8    7\n",
      "6    6\n",
      "7    4\n",
      "4    4\n",
      "9    4\n",
      "2    3\n",
      "1    3\n",
      "5    2\n",
      "dtype: int64\n"
     ]
    }
   ],
   "source": [
    "#calculate the frequency counts of each unique value of a given series\n",
    "import pandas as pd\n",
    "import numpy as np\n",
    "num_series=pd.Series(np.take(list('0123456789'),np.random.randint(10,size=40)))\n",
    "print(\"original series:\")\n",
    "print(num_series)\n",
    "print(\"frequency of each unique value of series\")\n",
    "result=num_series.value_counts()\n",
    "print(result)"
   ]
  },
  {
   "cell_type": "code",
   "execution_count": 32,
   "metadata": {},
   "outputs": [
    {
     "name": "stdout",
     "output_type": "stream",
     "text": [
      "original Series:\n",
      "0     4\n",
      "1     2\n",
      "2     1\n",
      "3     1\n",
      "4     1\n",
      "5     2\n",
      "6     2\n",
      "7     2\n",
      "8     3\n",
      "9     4\n",
      "10    3\n",
      "11    1\n",
      "12    3\n",
      "13    4\n",
      "14    1\n",
      "dtype: int32\n",
      "top 2 freq: 1    5\n",
      "2    4\n",
      "4    3\n",
      "3    3\n",
      "dtype: int64\n",
      "0     other\n",
      "1     other\n",
      "2         1\n",
      "3         1\n",
      "4         1\n",
      "5     other\n",
      "6     other\n",
      "7     other\n",
      "8     other\n",
      "9     other\n",
      "10    other\n",
      "11        1\n",
      "12    other\n",
      "13    other\n",
      "14        1\n",
      "dtype: object\n"
     ]
    }
   ],
   "source": [
    "#display most frequent value in a given series & replace everything else as other in the series\n",
    "import pandas as pd\n",
    "import numpy as np\n",
    "np.random.RandomState(100)\n",
    "series=pd.Series(np.random.randint(1,5,[15]))\n",
    "print(\"original Series:\")\n",
    "print(series)\n",
    "print(\"top 2 freq:\",series.value_counts())\n",
    "result=series[~series.isin(series.value_counts().index[:1])]='other'\n",
    "print(series)"
   ]
  },
  {
   "cell_type": "code",
   "execution_count": 34,
   "metadata": {},
   "outputs": [
    {
     "name": "stdout",
     "output_type": "stream",
     "text": [
      "original array:\n",
      "0    3\n",
      "1    9\n",
      "2    8\n",
      "3    1\n",
      "4    3\n",
      "5    6\n",
      "6    9\n",
      "7    9\n",
      "8    4\n",
      "dtype: int32\n",
      "positions of numbers that are multiples of 5:\n",
      "(array([], dtype=int64),)\n"
     ]
    }
   ],
   "source": [
    "#find the positions of numbers that are multiples of a given series\n",
    "import pandas as pd\n",
    "import numpy as np\n",
    "series=pd.Series(np.random.randint(1,10,9))\n",
    "print(\"original array:\")\n",
    "print(series)\n",
    "result=np.where(series%5==0)\n",
    "print(\"positions of numbers that are multiples of 5:\")\n",
    "print(result)"
   ]
  },
  {
   "cell_type": "code",
   "execution_count": 35,
   "metadata": {},
   "outputs": [
    {
     "name": "stdout",
     "output_type": "stream",
     "text": [
      "original series:\n",
      "0     2\n",
      "1     3\n",
      "2     9\n",
      "3     0\n",
      "4     2\n",
      "5     3\n",
      "6     8\n",
      "7     9\n",
      "8     2\n",
      "9     3\n",
      "10    9\n",
      "11    0\n",
      "12    2\n",
      "13    3\n",
      "14    9\n",
      "15    0\n",
      "16    2\n",
      "17    3\n",
      "18    9\n",
      "19    0\n",
      "20    2\n",
      "21    3\n",
      "dtype: object\n",
      "\n",
      " extract items at a given positions of a given series:\n",
      "0     2\n",
      "2     9\n",
      "6     8\n",
      "11    0\n",
      "21    3\n",
      "dtype: object\n"
     ]
    }
   ],
   "source": [
    "#extract items at a given positions of a given series\n",
    "import pandas as pd\n",
    "a=pd.Series(list('2390238923902390239023'))\n",
    "ele_pos=[0,2,6,11,21]\n",
    "print(\"original series:\")\n",
    "print(a)\n",
    "result=a.take(ele_pos)\n",
    "print(\"\\n extract items at a given positions of a given series:\")\n",
    "print(result)"
   ]
  },
  {
   "cell_type": "code",
   "execution_count": 36,
   "metadata": {},
   "outputs": [
    {
     "name": "stdout",
     "output_type": "stream",
     "text": [
      "original series:\n",
      "0     1\n",
      "1     2\n",
      "2     3\n",
      "3     4\n",
      "4     5\n",
      "5     6\n",
      "6     7\n",
      "7     8\n",
      "8     9\n",
      "9    10\n",
      "dtype: int64\n",
      "0     1\n",
      "1     3\n",
      "2     5\n",
      "3     7\n",
      "4    10\n",
      "dtype: int64\n",
      "positions of items of b in a:\n",
      "[0, 2, 4, 6, 9]\n"
     ]
    }
   ],
   "source": [
    "#get the positions of items of a given series in another series\n",
    "import pandas as pd\n",
    "a=pd.Series([1,2,3,4,5,6,7,8,9,10])\n",
    "b=pd.Series([1,3,5,7,10])\n",
    "print(\"original series:\")\n",
    "print(a)\n",
    "print(b)\n",
    "result=[pd.Index(a).get_loc(i) for i in b]\n",
    "print(\"positions of items of b in a:\")\n",
    "print(result)"
   ]
  },
  {
   "cell_type": "code",
   "execution_count": 37,
   "metadata": {},
   "outputs": [
    {
     "name": "stdout",
     "output_type": "stream",
     "text": [
      "original series:\n",
      "\n",
      " first and last character of each word to upper case:\n",
      "0       PhP\n",
      "1    PythoN\n",
      "2      JavA\n",
      "3       DaA\n",
      "dtype: object\n"
     ]
    }
   ],
   "source": [
    "#convert first and last character of each word to uppercase\n",
    "import pandas as pd\n",
    "a=pd.Series(['php','python','java','daa'])\n",
    "print(\"original series:\")\n",
    "result=a.map(lambda x:x[0].upper()+x[1:-1]+x[-1].upper())\n",
    "print(\"\\n first and last character of each word to upper case:\")\n",
    "print(result)"
   ]
  },
  {
   "cell_type": "code",
   "execution_count": 38,
   "metadata": {},
   "outputs": [
    {
     "name": "stdout",
     "output_type": "stream",
     "text": [
      "original series:\n",
      "0       php\n",
      "1    python\n",
      "2      java\n",
      "3       daa\n",
      "dtype: object\n",
      "\n",
      " no of characters in each word in a given series:\n",
      "0    3\n",
      "1    6\n",
      "2    4\n",
      "3    3\n",
      "dtype: int64\n"
     ]
    }
   ],
   "source": [
    "#calculate no of characters in each word in a given series\n",
    "import pandas as pd\n",
    "a=pd.Series(['php','python','java','daa'])\n",
    "print(\"original series:\")\n",
    "print(a)\n",
    "result=a.map(lambda x:len(x))\n",
    "print(\"\\n no of characters in each word in a given series:\")\n",
    "print(result)"
   ]
  },
  {
   "cell_type": "code",
   "execution_count": 39,
   "metadata": {},
   "outputs": [
    {
     "name": "stdout",
     "output_type": "stream",
     "text": [
      "original series:\n",
      "0     1\n",
      "1     3\n",
      "2     5\n",
      "3     8\n",
      "4    10\n",
      "5    11\n",
      "6    15\n",
      "dtype: int64\n",
      "\n",
      " difference between consecutive numbers and a given series:\n",
      "[nan, 2.0, 2.0, 3.0, 2.0, 1.0, 4.0]\n",
      "[nan, nan, 0.0, 1.0, -1.0, -1.0, 3.0]\n"
     ]
    }
   ],
   "source": [
    "#compute difference between consecutive numbers and a given series\n",
    "import pandas as pd\n",
    "a=pd.Series([1,3,5,8,10,11,15])\n",
    "print(\"original series:\")\n",
    "print(a)\n",
    "print(\"\\n difference between consecutive numbers and a given series:\")\n",
    "print(a.diff().tolist())\n",
    "print(a.diff().diff().tolist())"
   ]
  },
  {
   "cell_type": "code",
   "execution_count": 40,
   "metadata": {},
   "outputs": [
    {
     "name": "stdout",
     "output_type": "stream",
     "text": [
      "original series:\n",
      "0         01 Jan 2015\n",
      "1          10-02-2016\n",
      "2            20180307\n",
      "3          2014/05/06\n",
      "4          2016-04-12\n",
      "5    2019-04-06T11:20\n",
      "dtype: object\n",
      "\n",
      " series of date strings to a timeseries:\n",
      "0   2015-01-01 00:00:00\n",
      "1   2016-10-02 00:00:00\n",
      "2   2018-03-07 00:00:00\n",
      "3   2014-05-06 00:00:00\n",
      "4   2016-04-12 00:00:00\n",
      "5   2019-04-06 11:20:00\n",
      "dtype: datetime64[ns]\n"
     ]
    }
   ],
   "source": [
    "#convert a series of date strings to a timeseries\n",
    "import pandas as pd\n",
    "a=pd.Series(['01 Jan 2015','10-02-2016','20180307','2014/05/06','2016-04-12','2019-04-06T11:20'])\n",
    "print(\"original series:\")\n",
    "print(a)\n",
    "print(\"\\n series of date strings to a timeseries:\")\n",
    "print(pd.to_datetime(a))"
   ]
  },
  {
   "cell_type": "code",
   "execution_count": 43,
   "metadata": {},
   "outputs": [
    {
     "name": "stdout",
     "output_type": "stream",
     "text": [
      "original series:\n",
      "0         01 Jan 2015\n",
      "1          10-02-2016\n",
      "2            20180307\n",
      "3          2014/05/06\n",
      "4          2016-04-12\n",
      "5    2019-04-06T11:20\n",
      "dtype: object\n",
      "Day of month:\n",
      "[1, 2, 7, 6, 12, 6]\n",
      "Day of year:\n",
      "[1, 276, 66, 126, 103, 96]\n",
      "Week number:\n",
      "[1, 39, 10, 19, 15, 14]\n",
      "Day of week:\n"
     ]
    },
    {
     "ename": "AttributeError",
     "evalue": "'DatetimeProperties' object has no attribute 'weekday_name'",
     "output_type": "error",
     "traceback": [
      "\u001b[1;31m---------------------------------------------------------------------------\u001b[0m",
      "\u001b[1;31mAttributeError\u001b[0m                            Traceback (most recent call last)",
      "\u001b[1;32m<ipython-input-43-60499824b9b1>\u001b[0m in \u001b[0;36m<module>\u001b[1;34m\u001b[0m\n\u001b[0;32m     13\u001b[0m \u001b[0mprint\u001b[0m\u001b[1;33m(\u001b[0m\u001b[0ma\u001b[0m\u001b[1;33m.\u001b[0m\u001b[0mdt\u001b[0m\u001b[1;33m.\u001b[0m\u001b[0mweekofyear\u001b[0m\u001b[1;33m.\u001b[0m\u001b[0mtolist\u001b[0m\u001b[1;33m(\u001b[0m\u001b[1;33m)\u001b[0m\u001b[1;33m)\u001b[0m\u001b[1;33m\u001b[0m\u001b[1;33m\u001b[0m\u001b[0m\n\u001b[0;32m     14\u001b[0m \u001b[0mprint\u001b[0m\u001b[1;33m(\u001b[0m\u001b[1;34m\"Day of week:\"\u001b[0m\u001b[1;33m)\u001b[0m\u001b[1;33m\u001b[0m\u001b[1;33m\u001b[0m\u001b[0m\n\u001b[1;32m---> 15\u001b[1;33m \u001b[0mprint\u001b[0m\u001b[1;33m(\u001b[0m\u001b[0ma\u001b[0m\u001b[1;33m.\u001b[0m\u001b[0mdt\u001b[0m\u001b[1;33m.\u001b[0m\u001b[0mweekday_name\u001b[0m\u001b[1;33m.\u001b[0m\u001b[0mtolist\u001b[0m\u001b[1;33m(\u001b[0m\u001b[1;33m)\u001b[0m\u001b[1;33m)\u001b[0m\u001b[1;33m\u001b[0m\u001b[1;33m\u001b[0m\u001b[0m\n\u001b[0m",
      "\u001b[1;31mAttributeError\u001b[0m: 'DatetimeProperties' object has no attribute 'weekday_name'"
     ]
    }
   ],
   "source": [
    "#get the day of month,year,week,week number\n",
    "import pandas as pd\n",
    "from dateutil.parser import parse\n",
    "a=pd.Series(['01 Jan 2015','10-02-2016','20180307','2014/05/06','2016-04-12','2019-04-06T11:20'])\n",
    "print(\"original series:\")\n",
    "print(a)\n",
    "a=a.map(lambda x:parse(x))\n",
    "print(\"Day of month:\")\n",
    "print(a.dt.day.tolist())\n",
    "print(\"Day of year:\")\n",
    "print(a.dt.dayofyear.tolist())\n",
    "print(\"Week number:\")\n",
    "print(a.dt.weekofyear.tolist())\n",
    "print(\"Day of week:\")\n",
    "print(a.dt.weekday_name.tolist())"
   ]
  },
  {
   "cell_type": "code",
   "execution_count": 3,
   "metadata": {},
   "outputs": [
    {
     "name": "stdout",
     "output_type": "stream",
     "text": [
      "original series:\n",
      "0    Jan 2015\n",
      "1    Feb 2016\n",
      "2    Mar 2017\n",
      "3    Apr 2018\n",
      "4    May 2019\n",
      "dtype: object\n",
      "\n",
      " new series:\n",
      "0   2015-01-11\n",
      "1   2016-02-11\n",
      "2   2017-03-11\n",
      "3   2018-04-11\n",
      "4   2019-05-11\n",
      "dtype: datetime64[ns]\n"
     ]
    }
   ],
   "source": [
    "#convert year-month string to dates adding a specified day of the month\n",
    "import pandas as pd\n",
    "from dateutil.parser import parse\n",
    "a=pd.Series(['Jan 2015','Feb 2016','Mar 2017','Apr 2018', 'May 2019'])\n",
    "print(\"original series:\")\n",
    "print(a)\n",
    "print(\"\\n new series:\")\n",
    "result=a.map(lambda d:parse('11'+d))\n",
    "print(result)"
   ]
  },
  {
   "cell_type": "code",
   "execution_count": 5,
   "metadata": {},
   "outputs": [
    {
     "name": "stdout",
     "output_type": "stream",
     "text": [
      "original series:\n",
      "0       red\n",
      "1     green\n",
      "2    orange\n",
      "3      pink\n",
      "4    yellow\n",
      "5     white\n",
      "dtype: object\n",
      "\n",
      " filtered words:\n",
      "1     green\n",
      "2    orange\n",
      "4    yellow\n",
      "5     white\n",
      "dtype: object\n"
     ]
    }
   ],
   "source": [
    "#program to filter words from a given series that contain atleast two vowels\n",
    "import pandas as pd\n",
    "from collections import Counter\n",
    "a=pd.Series(['red','green','orange','pink','yellow','white'])\n",
    "print(\"original series:\")\n",
    "print(a)\n",
    "print(\"\\n filtered words:\")\n",
    "result=mask=a.map(lambda c:sum([Counter(c.lower()).get(i,0) for i in list('aeiou')])>=2)\n",
    "print(a[result])"
   ]
  },
  {
   "cell_type": "code",
   "execution_count": 7,
   "metadata": {},
   "outputs": [
    {
     "name": "stdout",
     "output_type": "stream",
     "text": [
      "original series:\n",
      "0     1\n",
      "1     2\n",
      "2     3\n",
      "3     4\n",
      "4     5\n",
      "5     6\n",
      "6     7\n",
      "7     8\n",
      "8     9\n",
      "9    10\n",
      "dtype: int64\n",
      "0    11\n",
      "1     8\n",
      "2     7\n",
      "3     5\n",
      "4     6\n",
      "5     5\n",
      "6     3\n",
      "7     4\n",
      "8     7\n",
      "9     1\n",
      "dtype: int64\n",
      "\n",
      " Euclidean distance between two series:\n",
      "16.492422502470642\n"
     ]
    }
   ],
   "source": [
    "#Pandas program to compute the Euclidean distance between two given series\n",
    "import pandas as pd\n",
    "import numpy as np\n",
    "a=pd.Series([1,2,3,4,5,6,7,8,9,10])\n",
    "b=pd.Series([11,8,7,5,6,5,3,4,7,1])\n",
    "print(\"original series:\")\n",
    "print(a)\n",
    "print(b)\n",
    "print(\"\\n Euclidean distance between two series:\")\n",
    "print(np.linalg.norm(a-b))"
   ]
  },
  {
   "cell_type": "code",
   "execution_count": 8,
   "metadata": {},
   "outputs": [
    {
     "name": "stdout",
     "output_type": "stream",
     "text": [
      "original series:\n",
      "0    1\n",
      "1    8\n",
      "2    7\n",
      "3    5\n",
      "4    6\n",
      "5    5\n",
      "6    3\n",
      "7    4\n",
      "8    7\n",
      "9    1\n",
      "dtype: int64\n",
      "\n",
      " positions of the values surrounded by smaller values on both sides:\n",
      "[1 4 8]\n"
     ]
    }
   ],
   "source": [
    "#Pandas program to find the positions of the values neighboured by smaller values on both sides in a given series\n",
    "import pandas as pd\n",
    "import numpy as np\n",
    "a=pd.Series([1,8,7,5,6,5,3,4,7,1])\n",
    "print(\"original series:\")\n",
    "print(a)\n",
    "print(\"\\n positions of the values surrounded by smaller values on both sides:\")\n",
    "temp=np.diff(np.sign(np.diff(a)))\n",
    "result=np.where(temp==-2)[0]+1\n",
    "print(result)"
   ]
  },
  {
   "cell_type": "code",
   "execution_count": 10,
   "metadata": {},
   "outputs": [
    {
     "name": "stdout",
     "output_type": "stream",
     "text": [
      "original series:\n",
      "abc def abcdef icd\n",
      "d    3\n",
      "c    3\n",
      "     3\n",
      "f    2\n",
      "a    2\n",
      "b    2\n",
      "e    2\n",
      "i    1\n",
      "dtype: int64\n",
      "abcidefiabcdefiicd\n"
     ]
    }
   ],
   "source": [
    "#program to replace missing white spaces in a given string with the least frequent character\n",
    "import pandas as pd\n",
    "str1='abc def abcdef icd'\n",
    "print(\"original series:\")\n",
    "print(str1)\n",
    "ser=pd.Series(list(str1))\n",
    "elem_freq=ser.value_counts()\n",
    "print(elem_freq)\n",
    "current_freq=elem_freq.dropna().index[-1]\n",
    "result=\"\".join(ser.replace(' ',current_freq))\n",
    "print(result)"
   ]
  },
  {
   "cell_type": "code",
   "execution_count": 11,
   "metadata": {},
   "outputs": [
    {
     "name": "stdout",
     "output_type": "stream",
     "text": [
      "original series:\n",
      "0     -6.695538\n",
      "1     14.719970\n",
      "2      0.366407\n",
      "3     -0.758405\n",
      "4     -6.160134\n",
      "5      2.268782\n",
      "6      6.069699\n",
      "7     18.001970\n",
      "8     16.529240\n",
      "9     20.574161\n",
      "10    13.899117\n",
      "11    -0.233052\n",
      "12     9.952637\n",
      "13    12.227680\n",
      "14    32.690174\n",
      "dtype: float64\n",
      "\n",
      " Autocorrelations of the series:\n",
      "[0.36, 0.24, -0.21, 0.05, 0.19, 0.44, 0.63, 0.48, 0.01, -0.78]\n"
     ]
    }
   ],
   "source": [
    "#program to compute the autocorrelations of a given numeric series\n",
    "import pandas as pd\n",
    "import numpy as np\n",
    "a=pd.Series(np.arange(15)+np.random.normal(1,10,15))\n",
    "print(\"original series:\")\n",
    "print(a)\n",
    "autocorrelations=[a.autocorr(i).round(2) for i in range(11)]\n",
    "print(\"\\n Autocorrelations of the series:\")\n",
    "print(autocorrelations[1:])"
   ]
  },
  {
   "cell_type": "code",
   "execution_count": 12,
   "metadata": {},
   "outputs": [
    {
     "name": "stdout",
     "output_type": "stream",
     "text": [
      "all sundays of 2019:\n",
      "0    2020-01-05\n",
      "1    2020-01-12\n",
      "2    2020-01-19\n",
      "3    2020-01-26\n",
      "4    2020-02-02\n",
      "5    2020-02-09\n",
      "6    2020-02-16\n",
      "7    2020-02-23\n",
      "8    2020-03-01\n",
      "9    2020-03-08\n",
      "10   2020-03-15\n",
      "11   2020-03-22\n",
      "12   2020-03-29\n",
      "13   2020-04-05\n",
      "14   2020-04-12\n",
      "15   2020-04-19\n",
      "16   2020-04-26\n",
      "17   2020-05-03\n",
      "18   2020-05-10\n",
      "19   2020-05-17\n",
      "20   2020-05-24\n",
      "21   2020-05-31\n",
      "22   2020-06-07\n",
      "23   2020-06-14\n",
      "24   2020-06-21\n",
      "25   2020-06-28\n",
      "26   2020-07-05\n",
      "27   2020-07-12\n",
      "28   2020-07-19\n",
      "29   2020-07-26\n",
      "30   2020-08-02\n",
      "31   2020-08-09\n",
      "32   2020-08-16\n",
      "33   2020-08-23\n",
      "34   2020-08-30\n",
      "35   2020-09-06\n",
      "36   2020-09-13\n",
      "37   2020-09-20\n",
      "38   2020-09-27\n",
      "39   2020-10-04\n",
      "40   2020-10-11\n",
      "41   2020-10-18\n",
      "42   2020-10-25\n",
      "43   2020-11-01\n",
      "44   2020-11-08\n",
      "45   2020-11-15\n",
      "46   2020-11-22\n",
      "47   2020-11-29\n",
      "48   2020-12-06\n",
      "49   2020-12-13\n",
      "50   2020-12-20\n",
      "51   2020-12-27\n",
      "dtype: datetime64[ns]\n"
     ]
    }
   ],
   "source": [
    "#program to create a TimeSeries to display all the Sundays of given year\n",
    "import pandas as pd\n",
    "result=pd.Series(pd.date_range('2020-01-01',periods=52,freq='W-SUN'))\n",
    "print(\"all sundays of 2019:\")\n",
    "print(result)"
   ]
  },
  {
   "cell_type": "code",
   "execution_count": 3,
   "metadata": {},
   "outputs": [
    {
     "name": "stdout",
     "output_type": "stream",
     "text": [
      "  index  0\n",
      "0     A  0\n",
      "1     B  1\n",
      "2     C  2\n",
      "3     D  3\n",
      "4     E  4\n"
     ]
    }
   ],
   "source": [
    "#program to convert given series into a dataframe with its index as another column on the dataframe\n",
    "import numpy as np\n",
    "import pandas as pd\n",
    "char_list=list('ABCDEFGHIJKLMNOP')\n",
    "num_arr=np.arange(8)\n",
    "num_dict=dict(zip(char_list,num_arr))\n",
    "num_ser=pd.Series(num_dict)\n",
    "df=num_ser.to_frame().reset_index()\n",
    "print(df.head())"
   ]
  },
  {
   "cell_type": "code",
   "execution_count": 4,
   "metadata": {},
   "outputs": [
    {
     "name": "stdout",
     "output_type": "stream",
     "text": [
      "Original Series:\n",
      "0    0\n",
      "1    1\n",
      "2    2\n",
      "3    3\n",
      "4    4\n",
      "5    5\n",
      "6    6\n",
      "7    7\n",
      "8    8\n",
      "9    9\n",
      "dtype: int64\n",
      "0    p\n",
      "1    q\n",
      "2    r\n",
      "3    s\n",
      "4    t\n",
      "5    u\n",
      "6    v\n",
      "7    w\n",
      "8    x\n",
      "9    y\n",
      "dtype: object\n",
      "\n",
      " Stack two given series vertically and horizontally:\n",
      "   0  1\n",
      "0  0  p\n",
      "1  1  q\n",
      "2  2  r\n",
      "3  3  s\n",
      "4  4  t\n",
      "5  5  u\n",
      "6  6  v\n",
      "7  7  w\n",
      "8  8  x\n",
      "9  9  y\n"
     ]
    }
   ],
   "source": [
    "#program to stack two given series vertically and horizontally\n",
    "import pandas as pd\n",
    "series1=pd.Series(range(10))\n",
    "series2=pd.Series(list('pqrstuvwxy'))\n",
    "print(\"Original Series:\")\n",
    "print(series1)\n",
    "print(series2)\n",
    "series1.append(series2)\n",
    "df=pd.concat([series1, series2], axis=1)\n",
    "print(\"\\n Stack two given series vertically and horizontally:\")\n",
    "print(df)"
   ]
  },
  {
   "cell_type": "code",
   "execution_count": 5,
   "metadata": {},
   "outputs": [
    {
     "name": "stdout",
     "output_type": "stream",
     "text": [
      "Original Series:\n",
      "0    1\n",
      "1    8\n",
      "2    7\n",
      "3    5\n",
      "4    6\n",
      "5    5\n",
      "6    3\n",
      "7    4\n",
      "8    7\n",
      "9    1\n",
      "dtype: int64\n",
      "0    1\n",
      "1    8\n",
      "2    7\n",
      "3    5\n",
      "4    6\n",
      "5    5\n",
      "6    3\n",
      "7    4\n",
      "8    7\n",
      "9    1\n",
      "dtype: int64\n",
      "Check 2 series are equal or not?\n",
      "0    True\n",
      "1    True\n",
      "2    True\n",
      "3    True\n",
      "4    True\n",
      "5    True\n",
      "6    True\n",
      "7    True\n",
      "8    True\n",
      "9    True\n",
      "dtype: bool\n"
     ]
    }
   ],
   "source": [
    "#program to check the equality of two given series'\n",
    "import pandas as pd\n",
    "n1=pd.Series([1,8,7,5,6,5,3,4,7,1])\n",
    "n2=pd.Series([1,8,7,5,6,5,3,4,7,1])\n",
    "print(\"Original Series:\")\n",
    "print(n1)\n",
    "print(n2)\n",
    "print(\"Check 2 series are equal or not?\")\n",
    "print(n1==n2)"
   ]
  },
  {
   "cell_type": "code",
   "execution_count": 6,
   "metadata": {},
   "outputs": [
    {
     "name": "stdout",
     "output_type": "stream",
     "text": [
      "Original Series:\n",
      "0     1\n",
      "1     3\n",
      "2     7\n",
      "3    12\n",
      "4    88\n",
      "5    23\n",
      "6     3\n",
      "7     1\n",
      "8     9\n",
      "9     0\n",
      "dtype: int64\n",
      "Index of the first occurrence of the smallest and largest value of the series:\n",
      "9\n",
      "4\n"
     ]
    }
   ],
   "source": [
    "#program to find the index of the first occurrence of the smallest and largest value of a given series\n",
    "import pandas as pd\n",
    "n=pd.Series([1,3,7,12,88,23,3,1,9,0])\n",
    "print(\"Original Series:\")\n",
    "print(n)\n",
    "print(\"Index of the first occurrence of the smallest and largest value of the series:\")\n",
    "print(n.idxmin())\n",
    "print(n.idxmax())"
   ]
  },
  {
   "cell_type": "code",
   "execution_count": 7,
   "metadata": {},
   "outputs": [
    {
     "name": "stdout",
     "output_type": "stream",
     "text": [
      "Original DataFrame:\n",
      "      W     X   Y   Z\n",
      "0  68.0  78.0  84  86\n",
      "1  75.0  75.0  94  97\n",
      "2  86.0   NaN  89  96\n",
      "3  80.0  80.0  86  72\n",
      "4   NaN  86.0  86  83\n",
      "\n",
      " Original Series:\n",
      "0    68.0\n",
      "1    75.0\n",
      "2    86.0\n",
      "3    80.0\n",
      "4     NaN\n",
      "dtype: float64\n",
      "\n",
      "Check for inequality of the said series & dataframe:\n",
      "       W      X     Y     Z\n",
      "0  False   True  True  True\n",
      "1  False  False  True  True\n",
      "2  False   True  True  True\n",
      "3  False  False  True  True\n",
      "4   True   True  True  True\n"
     ]
    }
   ],
   "source": [
    "#program to check inequality over the index axis of a given dataframe and a given series\n",
    "import pandas as pd\n",
    "df=pd.DataFrame({'W':[68,75,86,80,None],'X':[78,75,None,80,86], 'Y':[84,94,89,86,86],'Z':[86,97,96,72,83]});\n",
    "a=pd.Series([68, 75, 86, 80, None]) \n",
    "print(\"Original DataFrame:\")\n",
    "print(df)\n",
    "print(\"\\n Original Series:\")\n",
    "print(a)\n",
    "print(\"\\nCheck for inequality of the said series & dataframe:\")\n",
    "print(df.ne(a,axis = 0))"
   ]
  },
  {
   "cell_type": "code",
   "execution_count": null,
   "metadata": {},
   "outputs": [],
   "source": []
  }
 ],
 "metadata": {
  "kernelspec": {
   "display_name": "Python 3",
   "language": "python",
   "name": "python3"
  },
  "language_info": {
   "codemirror_mode": {
    "name": "ipython",
    "version": 3
   },
   "file_extension": ".py",
   "mimetype": "text/x-python",
   "name": "python",
   "nbconvert_exporter": "python",
   "pygments_lexer": "ipython3",
   "version": "3.7.6"
  }
 },
 "nbformat": 4,
 "nbformat_minor": 4
}
